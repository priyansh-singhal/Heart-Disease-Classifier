{
 "cells": [
  {
   "cell_type": "markdown",
   "id": "8126a101",
   "metadata": {
    "papermill": {
     "duration": 0.013919,
     "end_time": "2023-05-18T20:49:16.396983",
     "exception": false,
     "start_time": "2023-05-18T20:49:16.383064",
     "status": "completed"
    },
    "tags": []
   },
   "source": [
    "<h1 style=\"text-align: center; font-size: 40px; font-weight: bold; color: #E63737;\">🏥Heart Disease Classifier🩺❤️</h1>\n",
    "<h2 style=\"text-align: center; font-weight: normal; color: #555555;\">For Beginners✌️</h2>\n",
    "<hr>"
   ]
  },
  {
   "cell_type": "markdown",
   "id": "9bc5d8a6",
   "metadata": {
    "papermill": {
     "duration": 0.012802,
     "end_time": "2023-05-18T20:49:16.422709",
     "exception": false,
     "start_time": "2023-05-18T20:49:16.409907",
     "status": "completed"
    },
    "tags": []
   },
   "source": [
    "<div align=\"center\">\n",
    "  <h2 style=\"font-weight: bold; color: #555555;\">🎯 Problem Statement 🧠💡</h2>\n",
    "  <p style=\"font-size: 16px; font-weight: bold; color: #555555;\">In this project, we will learn basic machine learning concepts by exploring the problem of heart disease classification. We will build a binary classifier which will classify <em style=\"color: #808080;\">(predict)</em> the target <em style=\"color: #808080;\">(patient)</em> had disease or not. <em style=\"color: #808080;\">(1=yes, 0=no)</em></p>\n",
    "</div>\n"
   ]
  },
  {
   "cell_type": "markdown",
   "id": "590dcc5e",
   "metadata": {
    "papermill": {
     "duration": 0.012906,
     "end_time": "2023-05-18T20:49:16.448297",
     "exception": false,
     "start_time": "2023-05-18T20:49:16.435391",
     "status": "completed"
    },
    "tags": []
   },
   "source": [
    "<div align=\"center\">\n",
    " <h1 style=\"font-weight: bold; color: #555555;\">📚 Section 1: Importing Required Libraries 📊</h1>\n",
    "</div>\n",
    "<hr>\n",
    "<p>In this section, we import the necessary libraries that will be used throughout the project. <em style=\"color: #808080;\">To tidy up the things we'll do this in the beginning.</em> </p>\n",
    "\n",
    "* **NumPy** (shortened to `np`) and **Pandas** (shortened to `pd`) for data manipulation and analysis. \n",
    "* **Matplotlib** and **Seaborn** for data visualization and plotting. \n",
    "* `%matplotlib inline` for displaying plots within the notebook. \n",
    "* **Logistic Regression**, **K-Nearest Neighbors**, and **Random Forest** classifiers for building machine learning models. \n",
    "* **Train Test Split**, **Cross Validation Score**, **Randomized Search CV**, and **Grid Search CV** for model evaluation and optimization. \n",
    "* **Confusion Matrix**, **Classification Report**, **Precision Score**, **Recall Score**, **F1 Score**, and **ROC Curve Display** for evaluating model performance and accuracy. "
   ]
  },
  {
   "cell_type": "code",
   "execution_count": 1,
   "id": "c091bb37",
   "metadata": {
    "execution": {
     "iopub.execute_input": "2023-05-18T20:49:16.475822Z",
     "iopub.status.busy": "2023-05-18T20:49:16.475456Z",
     "iopub.status.idle": "2023-05-18T20:49:18.502696Z",
     "shell.execute_reply": "2023-05-18T20:49:18.501655Z"
    },
    "papermill": {
     "duration": 2.044364,
     "end_time": "2023-05-18T20:49:18.505329",
     "exception": false,
     "start_time": "2023-05-18T20:49:16.460965",
     "status": "completed"
    },
    "tags": []
   },
   "outputs": [
    {
     "name": "stderr",
     "output_type": "stream",
     "text": [
      "/opt/conda/lib/python3.10/site-packages/scipy/__init__.py:146: UserWarning: A NumPy version >=1.16.5 and <1.23.0 is required for this version of SciPy (detected version 1.23.5\n",
      "  warnings.warn(f\"A NumPy version >={np_minversion} and <{np_maxversion}\"\n"
     ]
    }
   ],
   "source": [
    "#Libraries for Exploratory Data Analysis [EDA]\n",
    "import numpy as np\n",
    "import pandas as pd\n",
    "\n",
    "#Plotting Libraries \n",
    "import matplotlib.pyplot as plt\n",
    "import seaborn as sns\n",
    "%matplotlib inline\n",
    "\n",
    "#Libraries for making ML Models\n",
    "from sklearn.linear_model import LogisticRegression\n",
    "from sklearn.neighbors import KNeighborsClassifier\n",
    "from sklearn.ensemble import RandomForestClassifier\n",
    "\n",
    "#Libraries for Evaluating the model\n",
    "from sklearn.model_selection import train_test_split , cross_val_score , RandomizedSearchCV , GridSearchCV\n",
    "from sklearn.metrics import confusion_matrix , classification_report , precision_score , recall_score , f1_score , RocCurveDisplay"
   ]
  },
  {
   "cell_type": "markdown",
   "id": "92e672f5",
   "metadata": {
    "papermill": {
     "duration": 0.014276,
     "end_time": "2023-05-18T20:49:18.533138",
     "exception": false,
     "start_time": "2023-05-18T20:49:18.518862",
     "status": "completed"
    },
    "tags": []
   },
   "source": [
    "<div align=\"center\">\n",
    "  <h1 style=\"font-weight: bold; color: #555555;\">Section 2: Load & Explore the Data 📑</h1>\n",
    "</div>\n",
    "<hr>\n",
    "\n",
    "In this section, we will load the dataset from a .csv file and store it inside a Pandas dataframe using the `read_csv()` function.\n",
    "\n",
    "After loading the dataset, we need to become more familiar with the data, which will help us during building and evaluating our model.\n",
    "\n",
    "### Exploratory Data Analysis (EDA) Steps:\n",
    "1. Understand the problem statement and see if our data can help to solve it.\n",
    "2. See what's available in the data.\n",
    "3. Deal with missing values and outliers.\n",
    "4. Add/Change/Remove features to get more out of the data, also known as feature engineering.\n",
    "\n",
    "Performing EDA is crucial as it allows us to gain insights into the dataset, identify any data quality issues, handle missing values or outliers, and potentially enhance the dataset through feature engineering.\n",
    "\n",
    "\n",
    "\n",
    "\n"
   ]
  },
  {
   "cell_type": "code",
   "execution_count": 2,
   "id": "a65aec8f",
   "metadata": {
    "execution": {
     "iopub.execute_input": "2023-05-18T20:49:18.563508Z",
     "iopub.status.busy": "2023-05-18T20:49:18.563162Z",
     "iopub.status.idle": "2023-05-18T20:49:18.593203Z",
     "shell.execute_reply": "2023-05-18T20:49:18.592212Z"
    },
    "papermill": {
     "duration": 0.048196,
     "end_time": "2023-05-18T20:49:18.595402",
     "exception": false,
     "start_time": "2023-05-18T20:49:18.547206",
     "status": "completed"
    },
    "tags": []
   },
   "outputs": [],
   "source": [
    "df = pd.read_csv(\"/kaggle/input/processed-dataset-for-heart-disease-classifier/Dataset_Heart_Disease_classifier.csv\")"
   ]
  },
  {
   "cell_type": "code",
   "execution_count": 3,
   "id": "bf82cea0",
   "metadata": {
    "execution": {
     "iopub.execute_input": "2023-05-18T20:49:18.625552Z",
     "iopub.status.busy": "2023-05-18T20:49:18.625042Z",
     "iopub.status.idle": "2023-05-18T20:49:18.631851Z",
     "shell.execute_reply": "2023-05-18T20:49:18.630970Z"
    },
    "papermill": {
     "duration": 0.024365,
     "end_time": "2023-05-18T20:49:18.633798",
     "exception": false,
     "start_time": "2023-05-18T20:49:18.609433",
     "status": "completed"
    },
    "tags": []
   },
   "outputs": [
    {
     "data": {
      "text/plain": [
       "(303, 14)"
      ]
     },
     "execution_count": 3,
     "metadata": {},
     "output_type": "execute_result"
    }
   ],
   "source": [
    "df.shape # This will display the rows and colums in our dataset"
   ]
  },
  {
   "cell_type": "code",
   "execution_count": 4,
   "id": "eac39595",
   "metadata": {
    "execution": {
     "iopub.execute_input": "2023-05-18T20:49:18.661909Z",
     "iopub.status.busy": "2023-05-18T20:49:18.661594Z",
     "iopub.status.idle": "2023-05-18T20:49:18.692687Z",
     "shell.execute_reply": "2023-05-18T20:49:18.691164Z"
    },
    "papermill": {
     "duration": 0.047639,
     "end_time": "2023-05-18T20:49:18.695083",
     "exception": false,
     "start_time": "2023-05-18T20:49:18.647444",
     "status": "completed"
    },
    "tags": []
   },
   "outputs": [
    {
     "name": "stdout",
     "output_type": "stream",
     "text": [
      "<class 'pandas.core.frame.DataFrame'>\n",
      "RangeIndex: 303 entries, 0 to 302\n",
      "Data columns (total 14 columns):\n",
      " #   Column    Non-Null Count  Dtype  \n",
      "---  ------    --------------  -----  \n",
      " 0   age       303 non-null    int64  \n",
      " 1   sex       303 non-null    int64  \n",
      " 2   cp        303 non-null    int64  \n",
      " 3   trestbps  303 non-null    int64  \n",
      " 4   chol      303 non-null    int64  \n",
      " 5   fbs       303 non-null    int64  \n",
      " 6   restecg   303 non-null    int64  \n",
      " 7   thalach   303 non-null    int64  \n",
      " 8   exang     303 non-null    int64  \n",
      " 9   oldpeak   303 non-null    float64\n",
      " 10  slope     303 non-null    int64  \n",
      " 11  ca        303 non-null    int64  \n",
      " 12  thal      303 non-null    int64  \n",
      " 13  target    303 non-null    int64  \n",
      "dtypes: float64(1), int64(13)\n",
      "memory usage: 33.3 KB\n"
     ]
    }
   ],
   "source": [
    "#Now getting a quick overview of the dataset\n",
    "df.info()"
   ]
  },
  {
   "cell_type": "code",
   "execution_count": 5,
   "id": "992ee6bb",
   "metadata": {
    "execution": {
     "iopub.execute_input": "2023-05-18T20:49:18.724619Z",
     "iopub.status.busy": "2023-05-18T20:49:18.724205Z",
     "iopub.status.idle": "2023-05-18T20:49:18.784110Z",
     "shell.execute_reply": "2023-05-18T20:49:18.782829Z"
    },
    "papermill": {
     "duration": 0.077068,
     "end_time": "2023-05-18T20:49:18.786461",
     "exception": false,
     "start_time": "2023-05-18T20:49:18.709393",
     "status": "completed"
    },
    "tags": []
   },
   "outputs": [
    {
     "data": {
      "text/html": [
       "<div>\n",
       "<style scoped>\n",
       "    .dataframe tbody tr th:only-of-type {\n",
       "        vertical-align: middle;\n",
       "    }\n",
       "\n",
       "    .dataframe tbody tr th {\n",
       "        vertical-align: top;\n",
       "    }\n",
       "\n",
       "    .dataframe thead th {\n",
       "        text-align: right;\n",
       "    }\n",
       "</style>\n",
       "<table border=\"1\" class=\"dataframe\">\n",
       "  <thead>\n",
       "    <tr style=\"text-align: right;\">\n",
       "      <th></th>\n",
       "      <th>age</th>\n",
       "      <th>sex</th>\n",
       "      <th>cp</th>\n",
       "      <th>trestbps</th>\n",
       "      <th>chol</th>\n",
       "      <th>fbs</th>\n",
       "      <th>restecg</th>\n",
       "      <th>thalach</th>\n",
       "      <th>exang</th>\n",
       "      <th>oldpeak</th>\n",
       "      <th>slope</th>\n",
       "      <th>ca</th>\n",
       "      <th>thal</th>\n",
       "      <th>target</th>\n",
       "    </tr>\n",
       "  </thead>\n",
       "  <tbody>\n",
       "    <tr>\n",
       "      <th>count</th>\n",
       "      <td>303.000000</td>\n",
       "      <td>303.000000</td>\n",
       "      <td>303.000000</td>\n",
       "      <td>303.000000</td>\n",
       "      <td>303.000000</td>\n",
       "      <td>303.000000</td>\n",
       "      <td>303.000000</td>\n",
       "      <td>303.000000</td>\n",
       "      <td>303.000000</td>\n",
       "      <td>303.000000</td>\n",
       "      <td>303.000000</td>\n",
       "      <td>303.000000</td>\n",
       "      <td>303.000000</td>\n",
       "      <td>303.000000</td>\n",
       "    </tr>\n",
       "    <tr>\n",
       "      <th>mean</th>\n",
       "      <td>54.366337</td>\n",
       "      <td>0.683168</td>\n",
       "      <td>0.966997</td>\n",
       "      <td>131.795380</td>\n",
       "      <td>246.257426</td>\n",
       "      <td>0.148515</td>\n",
       "      <td>0.528053</td>\n",
       "      <td>149.759076</td>\n",
       "      <td>0.326733</td>\n",
       "      <td>1.039604</td>\n",
       "      <td>1.399340</td>\n",
       "      <td>0.729373</td>\n",
       "      <td>2.313531</td>\n",
       "      <td>0.544554</td>\n",
       "    </tr>\n",
       "    <tr>\n",
       "      <th>std</th>\n",
       "      <td>9.082101</td>\n",
       "      <td>0.466011</td>\n",
       "      <td>1.032052</td>\n",
       "      <td>17.574187</td>\n",
       "      <td>51.832956</td>\n",
       "      <td>0.356198</td>\n",
       "      <td>0.525860</td>\n",
       "      <td>22.481885</td>\n",
       "      <td>0.469794</td>\n",
       "      <td>1.161075</td>\n",
       "      <td>0.616226</td>\n",
       "      <td>1.022606</td>\n",
       "      <td>0.612277</td>\n",
       "      <td>0.498835</td>\n",
       "    </tr>\n",
       "    <tr>\n",
       "      <th>min</th>\n",
       "      <td>29.000000</td>\n",
       "      <td>0.000000</td>\n",
       "      <td>0.000000</td>\n",
       "      <td>94.000000</td>\n",
       "      <td>126.000000</td>\n",
       "      <td>0.000000</td>\n",
       "      <td>0.000000</td>\n",
       "      <td>71.000000</td>\n",
       "      <td>0.000000</td>\n",
       "      <td>0.000000</td>\n",
       "      <td>0.000000</td>\n",
       "      <td>0.000000</td>\n",
       "      <td>0.000000</td>\n",
       "      <td>0.000000</td>\n",
       "    </tr>\n",
       "    <tr>\n",
       "      <th>25%</th>\n",
       "      <td>47.500000</td>\n",
       "      <td>0.000000</td>\n",
       "      <td>0.000000</td>\n",
       "      <td>120.000000</td>\n",
       "      <td>211.000000</td>\n",
       "      <td>0.000000</td>\n",
       "      <td>0.000000</td>\n",
       "      <td>135.000000</td>\n",
       "      <td>0.000000</td>\n",
       "      <td>0.000000</td>\n",
       "      <td>1.000000</td>\n",
       "      <td>0.000000</td>\n",
       "      <td>2.000000</td>\n",
       "      <td>0.000000</td>\n",
       "    </tr>\n",
       "    <tr>\n",
       "      <th>50%</th>\n",
       "      <td>55.000000</td>\n",
       "      <td>1.000000</td>\n",
       "      <td>1.000000</td>\n",
       "      <td>130.000000</td>\n",
       "      <td>240.000000</td>\n",
       "      <td>0.000000</td>\n",
       "      <td>1.000000</td>\n",
       "      <td>152.000000</td>\n",
       "      <td>0.000000</td>\n",
       "      <td>0.800000</td>\n",
       "      <td>1.000000</td>\n",
       "      <td>0.000000</td>\n",
       "      <td>2.000000</td>\n",
       "      <td>1.000000</td>\n",
       "    </tr>\n",
       "    <tr>\n",
       "      <th>75%</th>\n",
       "      <td>61.000000</td>\n",
       "      <td>1.000000</td>\n",
       "      <td>2.000000</td>\n",
       "      <td>140.000000</td>\n",
       "      <td>274.500000</td>\n",
       "      <td>0.000000</td>\n",
       "      <td>1.000000</td>\n",
       "      <td>166.000000</td>\n",
       "      <td>1.000000</td>\n",
       "      <td>1.600000</td>\n",
       "      <td>2.000000</td>\n",
       "      <td>1.000000</td>\n",
       "      <td>3.000000</td>\n",
       "      <td>1.000000</td>\n",
       "    </tr>\n",
       "    <tr>\n",
       "      <th>max</th>\n",
       "      <td>77.000000</td>\n",
       "      <td>1.000000</td>\n",
       "      <td>3.000000</td>\n",
       "      <td>200.000000</td>\n",
       "      <td>564.000000</td>\n",
       "      <td>1.000000</td>\n",
       "      <td>2.000000</td>\n",
       "      <td>202.000000</td>\n",
       "      <td>1.000000</td>\n",
       "      <td>6.200000</td>\n",
       "      <td>2.000000</td>\n",
       "      <td>4.000000</td>\n",
       "      <td>3.000000</td>\n",
       "      <td>1.000000</td>\n",
       "    </tr>\n",
       "  </tbody>\n",
       "</table>\n",
       "</div>"
      ],
      "text/plain": [
       "              age         sex          cp    trestbps        chol         fbs  \\\n",
       "count  303.000000  303.000000  303.000000  303.000000  303.000000  303.000000   \n",
       "mean    54.366337    0.683168    0.966997  131.795380  246.257426    0.148515   \n",
       "std      9.082101    0.466011    1.032052   17.574187   51.832956    0.356198   \n",
       "min     29.000000    0.000000    0.000000   94.000000  126.000000    0.000000   \n",
       "25%     47.500000    0.000000    0.000000  120.000000  211.000000    0.000000   \n",
       "50%     55.000000    1.000000    1.000000  130.000000  240.000000    0.000000   \n",
       "75%     61.000000    1.000000    2.000000  140.000000  274.500000    0.000000   \n",
       "max     77.000000    1.000000    3.000000  200.000000  564.000000    1.000000   \n",
       "\n",
       "          restecg     thalach       exang     oldpeak       slope          ca  \\\n",
       "count  303.000000  303.000000  303.000000  303.000000  303.000000  303.000000   \n",
       "mean     0.528053  149.759076    0.326733    1.039604    1.399340    0.729373   \n",
       "std      0.525860   22.481885    0.469794    1.161075    0.616226    1.022606   \n",
       "min      0.000000   71.000000    0.000000    0.000000    0.000000    0.000000   \n",
       "25%      0.000000  135.000000    0.000000    0.000000    1.000000    0.000000   \n",
       "50%      1.000000  152.000000    0.000000    0.800000    1.000000    0.000000   \n",
       "75%      1.000000  166.000000    1.000000    1.600000    2.000000    1.000000   \n",
       "max      2.000000  202.000000    1.000000    6.200000    2.000000    4.000000   \n",
       "\n",
       "             thal      target  \n",
       "count  303.000000  303.000000  \n",
       "mean     2.313531    0.544554  \n",
       "std      0.612277    0.498835  \n",
       "min      0.000000    0.000000  \n",
       "25%      2.000000    0.000000  \n",
       "50%      2.000000    1.000000  \n",
       "75%      3.000000    1.000000  \n",
       "max      3.000000    1.000000  "
      ]
     },
     "execution_count": 5,
     "metadata": {},
     "output_type": "execute_result"
    }
   ],
   "source": [
    "#To understand the data better use describe() function \n",
    "df.describe()"
   ]
  },
  {
   "cell_type": "code",
   "execution_count": 6,
   "id": "033c28c5",
   "metadata": {
    "execution": {
     "iopub.execute_input": "2023-05-18T20:49:18.816698Z",
     "iopub.status.busy": "2023-05-18T20:49:18.816289Z",
     "iopub.status.idle": "2023-05-18T20:49:18.831505Z",
     "shell.execute_reply": "2023-05-18T20:49:18.830333Z"
    },
    "papermill": {
     "duration": 0.032659,
     "end_time": "2023-05-18T20:49:18.833564",
     "exception": false,
     "start_time": "2023-05-18T20:49:18.800905",
     "status": "completed"
    },
    "tags": []
   },
   "outputs": [
    {
     "data": {
      "text/html": [
       "<div>\n",
       "<style scoped>\n",
       "    .dataframe tbody tr th:only-of-type {\n",
       "        vertical-align: middle;\n",
       "    }\n",
       "\n",
       "    .dataframe tbody tr th {\n",
       "        vertical-align: top;\n",
       "    }\n",
       "\n",
       "    .dataframe thead th {\n",
       "        text-align: right;\n",
       "    }\n",
       "</style>\n",
       "<table border=\"1\" class=\"dataframe\">\n",
       "  <thead>\n",
       "    <tr style=\"text-align: right;\">\n",
       "      <th></th>\n",
       "      <th>age</th>\n",
       "      <th>sex</th>\n",
       "      <th>cp</th>\n",
       "      <th>trestbps</th>\n",
       "      <th>chol</th>\n",
       "      <th>fbs</th>\n",
       "      <th>restecg</th>\n",
       "      <th>thalach</th>\n",
       "      <th>exang</th>\n",
       "      <th>oldpeak</th>\n",
       "      <th>slope</th>\n",
       "      <th>ca</th>\n",
       "      <th>thal</th>\n",
       "      <th>target</th>\n",
       "    </tr>\n",
       "  </thead>\n",
       "  <tbody>\n",
       "    <tr>\n",
       "      <th>0</th>\n",
       "      <td>63</td>\n",
       "      <td>1</td>\n",
       "      <td>3</td>\n",
       "      <td>145</td>\n",
       "      <td>233</td>\n",
       "      <td>1</td>\n",
       "      <td>0</td>\n",
       "      <td>150</td>\n",
       "      <td>0</td>\n",
       "      <td>2.3</td>\n",
       "      <td>0</td>\n",
       "      <td>0</td>\n",
       "      <td>1</td>\n",
       "      <td>1</td>\n",
       "    </tr>\n",
       "    <tr>\n",
       "      <th>1</th>\n",
       "      <td>37</td>\n",
       "      <td>1</td>\n",
       "      <td>2</td>\n",
       "      <td>130</td>\n",
       "      <td>250</td>\n",
       "      <td>0</td>\n",
       "      <td>1</td>\n",
       "      <td>187</td>\n",
       "      <td>0</td>\n",
       "      <td>3.5</td>\n",
       "      <td>0</td>\n",
       "      <td>0</td>\n",
       "      <td>2</td>\n",
       "      <td>1</td>\n",
       "    </tr>\n",
       "    <tr>\n",
       "      <th>2</th>\n",
       "      <td>41</td>\n",
       "      <td>0</td>\n",
       "      <td>1</td>\n",
       "      <td>130</td>\n",
       "      <td>204</td>\n",
       "      <td>0</td>\n",
       "      <td>0</td>\n",
       "      <td>172</td>\n",
       "      <td>0</td>\n",
       "      <td>1.4</td>\n",
       "      <td>2</td>\n",
       "      <td>0</td>\n",
       "      <td>2</td>\n",
       "      <td>1</td>\n",
       "    </tr>\n",
       "    <tr>\n",
       "      <th>3</th>\n",
       "      <td>56</td>\n",
       "      <td>1</td>\n",
       "      <td>1</td>\n",
       "      <td>120</td>\n",
       "      <td>236</td>\n",
       "      <td>0</td>\n",
       "      <td>1</td>\n",
       "      <td>178</td>\n",
       "      <td>0</td>\n",
       "      <td>0.8</td>\n",
       "      <td>2</td>\n",
       "      <td>0</td>\n",
       "      <td>2</td>\n",
       "      <td>1</td>\n",
       "    </tr>\n",
       "    <tr>\n",
       "      <th>4</th>\n",
       "      <td>57</td>\n",
       "      <td>0</td>\n",
       "      <td>0</td>\n",
       "      <td>120</td>\n",
       "      <td>354</td>\n",
       "      <td>0</td>\n",
       "      <td>1</td>\n",
       "      <td>163</td>\n",
       "      <td>1</td>\n",
       "      <td>0.6</td>\n",
       "      <td>2</td>\n",
       "      <td>0</td>\n",
       "      <td>2</td>\n",
       "      <td>1</td>\n",
       "    </tr>\n",
       "    <tr>\n",
       "      <th>5</th>\n",
       "      <td>57</td>\n",
       "      <td>1</td>\n",
       "      <td>0</td>\n",
       "      <td>140</td>\n",
       "      <td>192</td>\n",
       "      <td>0</td>\n",
       "      <td>1</td>\n",
       "      <td>148</td>\n",
       "      <td>0</td>\n",
       "      <td>0.4</td>\n",
       "      <td>1</td>\n",
       "      <td>0</td>\n",
       "      <td>1</td>\n",
       "      <td>1</td>\n",
       "    </tr>\n",
       "    <tr>\n",
       "      <th>6</th>\n",
       "      <td>56</td>\n",
       "      <td>0</td>\n",
       "      <td>1</td>\n",
       "      <td>140</td>\n",
       "      <td>294</td>\n",
       "      <td>0</td>\n",
       "      <td>0</td>\n",
       "      <td>153</td>\n",
       "      <td>0</td>\n",
       "      <td>1.3</td>\n",
       "      <td>1</td>\n",
       "      <td>0</td>\n",
       "      <td>2</td>\n",
       "      <td>1</td>\n",
       "    </tr>\n",
       "    <tr>\n",
       "      <th>7</th>\n",
       "      <td>44</td>\n",
       "      <td>1</td>\n",
       "      <td>1</td>\n",
       "      <td>120</td>\n",
       "      <td>263</td>\n",
       "      <td>0</td>\n",
       "      <td>1</td>\n",
       "      <td>173</td>\n",
       "      <td>0</td>\n",
       "      <td>0.0</td>\n",
       "      <td>2</td>\n",
       "      <td>0</td>\n",
       "      <td>3</td>\n",
       "      <td>1</td>\n",
       "    </tr>\n",
       "    <tr>\n",
       "      <th>8</th>\n",
       "      <td>52</td>\n",
       "      <td>1</td>\n",
       "      <td>2</td>\n",
       "      <td>172</td>\n",
       "      <td>199</td>\n",
       "      <td>1</td>\n",
       "      <td>1</td>\n",
       "      <td>162</td>\n",
       "      <td>0</td>\n",
       "      <td>0.5</td>\n",
       "      <td>2</td>\n",
       "      <td>0</td>\n",
       "      <td>3</td>\n",
       "      <td>1</td>\n",
       "    </tr>\n",
       "    <tr>\n",
       "      <th>9</th>\n",
       "      <td>57</td>\n",
       "      <td>1</td>\n",
       "      <td>2</td>\n",
       "      <td>150</td>\n",
       "      <td>168</td>\n",
       "      <td>0</td>\n",
       "      <td>1</td>\n",
       "      <td>174</td>\n",
       "      <td>0</td>\n",
       "      <td>1.6</td>\n",
       "      <td>2</td>\n",
       "      <td>0</td>\n",
       "      <td>2</td>\n",
       "      <td>1</td>\n",
       "    </tr>\n",
       "  </tbody>\n",
       "</table>\n",
       "</div>"
      ],
      "text/plain": [
       "   age  sex  cp  trestbps  chol  fbs  restecg  thalach  exang  oldpeak  slope  \\\n",
       "0   63    1   3       145   233    1        0      150      0      2.3      0   \n",
       "1   37    1   2       130   250    0        1      187      0      3.5      0   \n",
       "2   41    0   1       130   204    0        0      172      0      1.4      2   \n",
       "3   56    1   1       120   236    0        1      178      0      0.8      2   \n",
       "4   57    0   0       120   354    0        1      163      1      0.6      2   \n",
       "5   57    1   0       140   192    0        1      148      0      0.4      1   \n",
       "6   56    0   1       140   294    0        0      153      0      1.3      1   \n",
       "7   44    1   1       120   263    0        1      173      0      0.0      2   \n",
       "8   52    1   2       172   199    1        1      162      0      0.5      2   \n",
       "9   57    1   2       150   168    0        1      174      0      1.6      2   \n",
       "\n",
       "   ca  thal  target  \n",
       "0   0     1       1  \n",
       "1   0     2       1  \n",
       "2   0     2       1  \n",
       "3   0     2       1  \n",
       "4   0     2       1  \n",
       "5   0     1       1  \n",
       "6   0     2       1  \n",
       "7   0     3       1  \n",
       "8   0     3       1  \n",
       "9   0     2       1  "
      ]
     },
     "execution_count": 6,
     "metadata": {},
     "output_type": "execute_result"
    }
   ],
   "source": [
    "#rows = int(input(\"Enter the number of rows you want to see from beginning.\"))\n",
    "rows = 10  #Comment tis line if uncommenting the previous one.\n",
    "df.head(rows)"
   ]
  },
  {
   "cell_type": "code",
   "execution_count": 7,
   "id": "7a723dca",
   "metadata": {
    "execution": {
     "iopub.execute_input": "2023-05-18T20:49:18.864166Z",
     "iopub.status.busy": "2023-05-18T20:49:18.863493Z",
     "iopub.status.idle": "2023-05-18T20:49:18.873506Z",
     "shell.execute_reply": "2023-05-18T20:49:18.871563Z"
    },
    "papermill": {
     "duration": 0.028503,
     "end_time": "2023-05-18T20:49:18.876208",
     "exception": false,
     "start_time": "2023-05-18T20:49:18.847705",
     "status": "completed"
    },
    "tags": []
   },
   "outputs": [
    {
     "name": "stdout",
     "output_type": "stream",
     "text": [
      "1    165\n",
      "0    138\n",
      "Name: target, dtype: int64\n",
      "Values in percentages :\n",
      " 1    54.455446\n",
      "0    45.544554\n",
      "Name: target, dtype: float64\n"
     ]
    }
   ],
   "source": [
    "#The following function shows how many times each of the values of a categorical column appear.\n",
    "print(df.target.value_counts())\n",
    "#By passing the parameter normalize = True , we can get the values in percentage\n",
    "print(\"Values in percentages :\\n\",df.target.value_counts(normalize = True)*100,)"
   ]
  },
  {
   "cell_type": "code",
   "execution_count": 8,
   "id": "2a9d7caf",
   "metadata": {
    "execution": {
     "iopub.execute_input": "2023-05-18T20:49:18.909991Z",
     "iopub.status.busy": "2023-05-18T20:49:18.909649Z",
     "iopub.status.idle": "2023-05-18T20:49:19.152649Z",
     "shell.execute_reply": "2023-05-18T20:49:19.151464Z"
    },
    "papermill": {
     "duration": 0.262697,
     "end_time": "2023-05-18T20:49:19.154641",
     "exception": false,
     "start_time": "2023-05-18T20:49:18.891944",
     "status": "completed"
    },
    "tags": []
   },
   "outputs": [
    {
     "data": {
      "text/plain": [
       "<AxesSubplot: >"
      ]
     },
     "execution_count": 8,
     "metadata": {},
     "output_type": "execute_result"
    },
    {
     "data": {
      "image/png": "[encoded data removed]",
      "text/plain": [
       "<Figure size 640x480 with 1 Axes>"
      ]
     },
     "metadata": {},
     "output_type": "display_data"
    }
   ],
   "source": [
    "#Visualizing the Tagets data \n",
    "df.target.value_counts().plot(kind = \"bar\", color = [\"red\",\"blue\"])"
   ]
  },
  {
   "cell_type": "code",
   "execution_count": 9,
   "id": "61d45c68",
   "metadata": {
    "execution": {
     "iopub.execute_input": "2023-05-18T20:49:19.185242Z",
     "iopub.status.busy": "2023-05-18T20:49:19.184922Z",
     "iopub.status.idle": "2023-05-18T20:49:19.399382Z",
     "shell.execute_reply": "2023-05-18T20:49:19.397902Z"
    },
    "papermill": {
     "duration": 0.232914,
     "end_time": "2023-05-18T20:49:19.402102",
     "exception": false,
     "start_time": "2023-05-18T20:49:19.169188",
     "status": "completed"
    },
    "tags": []
   },
   "outputs": [
    {
     "data": {
      "text/plain": [
       "(array([0, 1]), [Text(0, 0, '0'), Text(1, 0, '1')])"
      ]
     },
     "execution_count": 9,
     "metadata": {},
     "output_type": "execute_result"
    },
    {
     "data": {
      "image/png": "[encoded data removed]",
      "text/plain": [
       "<Figure size 640x480 with 1 Axes>"
      ]
     },
     "metadata": {},
     "output_type": "display_data"
    }
   ],
   "source": [
    "#Visualize Heart Disease distribution according to sexes\n",
    "\n",
    "pd.crosstab(df.target,df.sex).plot(kind = \"bar\", color = [\"pink\",\"skyblue\"]);\n",
    "plt.title(\"Heart Disease accross various sexes\")\n",
    "plt.xlabel(\"0 -> No Disease | 1 -> Disease\")\n",
    "plt.ylabel(\"Frequency\")\n",
    "plt.legend([\"Female\" , \"Male\"])\n",
    "plt.xticks(rotation = 0) #To keep the x-axis labels straight "
   ]
  },
  {
   "cell_type": "markdown",
   "id": "316e4500",
   "metadata": {
    "papermill": {
     "duration": 0.014786,
     "end_time": "2023-05-18T20:49:19.433592",
     "exception": false,
     "start_time": "2023-05-18T20:49:19.418806",
     "status": "completed"
    },
    "tags": []
   },
   "source": [
    "## Visualize Heart Disease for different Ages & Max Heart rates"
   ]
  },
  {
   "cell_type": "code",
   "execution_count": 10,
   "id": "f624ca43",
   "metadata": {
    "execution": {
     "iopub.execute_input": "2023-05-18T20:49:19.464876Z",
     "iopub.status.busy": "2023-05-18T20:49:19.464528Z",
     "iopub.status.idle": "2023-05-18T20:49:19.473057Z",
     "shell.execute_reply": "2023-05-18T20:49:19.471633Z"
    },
    "papermill": {
     "duration": 0.027081,
     "end_time": "2023-05-18T20:49:19.475596",
     "exception": false,
     "start_time": "2023-05-18T20:49:19.448515",
     "status": "completed"
    },
    "tags": []
   },
   "outputs": [
    {
     "data": {
      "text/plain": [
       "58    19\n",
       "57    17\n",
       "54    16\n",
       "59    14\n",
       "52    13\n",
       "51    12\n",
       "62    11\n",
       "60    11\n",
       "44    11\n",
       "56    11\n",
       "64    10\n",
       "41    10\n",
       "63     9\n",
       "67     9\n",
       "65     8\n",
       "43     8\n",
       "45     8\n",
       "55     8\n",
       "42     8\n",
       "61     8\n",
       "53     8\n",
       "46     7\n",
       "48     7\n",
       "66     7\n",
       "50     7\n",
       "49     5\n",
       "47     5\n",
       "70     4\n",
       "39     4\n",
       "35     4\n",
       "68     4\n",
       "38     3\n",
       "71     3\n",
       "40     3\n",
       "69     3\n",
       "34     2\n",
       "37     2\n",
       "29     1\n",
       "74     1\n",
       "76     1\n",
       "77     1\n",
       "Name: age, dtype: int64"
      ]
     },
     "execution_count": 10,
     "metadata": {},
     "output_type": "execute_result"
    }
   ],
   "source": [
    "df.age.value_counts() # Age Distribution "
   ]
  },
  {
   "cell_type": "code",
   "execution_count": 11,
   "id": "d49f3d03",
   "metadata": {
    "execution": {
     "iopub.execute_input": "2023-05-18T20:49:19.511430Z",
     "iopub.status.busy": "2023-05-18T20:49:19.510026Z",
     "iopub.status.idle": "2023-05-18T20:49:19.670559Z",
     "shell.execute_reply": "2023-05-18T20:49:19.669623Z"
    },
    "papermill": {
     "duration": 0.181409,
     "end_time": "2023-05-18T20:49:19.672744",
     "exception": false,
     "start_time": "2023-05-18T20:49:19.491335",
     "status": "completed"
    },
    "tags": []
   },
   "outputs": [
    {
     "data": {
      "text/plain": [
       "<AxesSubplot: ylabel='Frequency'>"
      ]
     },
     "execution_count": 11,
     "metadata": {},
     "output_type": "execute_result"
    },
    {
     "data": {
      "image/png": "[encoded data removed]",
      "text/plain": [
       "<Figure size 640x480 with 1 Axes>"
      ]
     },
     "metadata": {},
     "output_type": "display_data"
    }
   ],
   "source": [
    "df.age.plot.hist()"
   ]
  },
  {
   "cell_type": "markdown",
   "id": "1af5d9b8",
   "metadata": {
    "papermill": {
     "duration": 0.015555,
     "end_time": "2023-05-18T20:49:19.704236",
     "exception": false,
     "start_time": "2023-05-18T20:49:19.688681",
     "status": "completed"
    },
    "tags": []
   },
   "source": [
    "This distribution is too large for a bra graph, thus we'll use scatter plot"
   ]
  },
  {
   "cell_type": "code",
   "execution_count": 12,
   "id": "da0d1a67",
   "metadata": {
    "execution": {
     "iopub.execute_input": "2023-05-18T20:49:19.737554Z",
     "iopub.status.busy": "2023-05-18T20:49:19.736934Z",
     "iopub.status.idle": "2023-05-18T20:49:20.017255Z",
     "shell.execute_reply": "2023-05-18T20:49:20.016252Z"
    },
    "papermill": {
     "duration": 0.300212,
     "end_time": "2023-05-18T20:49:20.019893",
     "exception": false,
     "start_time": "2023-05-18T20:49:19.719681",
     "status": "completed"
    },
    "tags": []
   },
   "outputs": [
    {
     "data": {
      "image/png": "[encoded data removed]",
      "text/plain": [
       "<Figure size 1000x600 with 1 Axes>"
      ]
     },
     "metadata": {},
     "output_type": "display_data"
    }
   ],
   "source": [
    "#Creating another figure for this visualization\n",
    "plt.figure(figsize = (10,6))\n",
    "\n",
    "# Plotting for different labels\n",
    "\n",
    "plt.scatter(df.age[df.target == 1],\n",
    "            df.thalach[df.target == 1],\n",
    "           color = \"red\")\n",
    "plt.scatter(df.age[df.target == 0],\n",
    "            df.thalach[df.target == 0],\n",
    "           color = \"blue\")\n",
    "plt.title(\"Distribution of heart disease w.r.t Age & Max heart rate\")\n",
    "plt.xlabel(\"Age\")\n",
    "plt.legend([\"Disease\", \"No Disease\"])\n",
    "plt.ylabel(\"Max Heart Rate\");"
   ]
  },
  {
   "cell_type": "markdown",
   "id": "c3e6ab34",
   "metadata": {
    "papermill": {
     "duration": 0.015963,
     "end_time": "2023-05-18T20:49:20.052034",
     "exception": false,
     "start_time": "2023-05-18T20:49:20.036071",
     "status": "completed"
    },
    "tags": []
   },
   "source": [
    "## Heart Disease Distribution wrt Chest Pain type"
   ]
  },
  {
   "cell_type": "code",
   "execution_count": 13,
   "id": "dd14f87a",
   "metadata": {
    "execution": {
     "iopub.execute_input": "2023-05-18T20:49:20.085634Z",
     "iopub.status.busy": "2023-05-18T20:49:20.085276Z",
     "iopub.status.idle": "2023-05-18T20:49:20.104769Z",
     "shell.execute_reply": "2023-05-18T20:49:20.103466Z"
    },
    "papermill": {
     "duration": 0.038279,
     "end_time": "2023-05-18T20:49:20.106528",
     "exception": false,
     "start_time": "2023-05-18T20:49:20.068249",
     "status": "completed"
    },
    "tags": []
   },
   "outputs": [
    {
     "data": {
      "text/html": [
       "<div>\n",
       "<style scoped>\n",
       "    .dataframe tbody tr th:only-of-type {\n",
       "        vertical-align: middle;\n",
       "    }\n",
       "\n",
       "    .dataframe tbody tr th {\n",
       "        vertical-align: top;\n",
       "    }\n",
       "\n",
       "    .dataframe thead th {\n",
       "        text-align: right;\n",
       "    }\n",
       "</style>\n",
       "<table border=\"1\" class=\"dataframe\">\n",
       "  <thead>\n",
       "    <tr style=\"text-align: right;\">\n",
       "      <th>target</th>\n",
       "      <th>0</th>\n",
       "      <th>1</th>\n",
       "    </tr>\n",
       "    <tr>\n",
       "      <th>cp</th>\n",
       "      <th></th>\n",
       "      <th></th>\n",
       "    </tr>\n",
       "  </thead>\n",
       "  <tbody>\n",
       "    <tr>\n",
       "      <th>0</th>\n",
       "      <td>104</td>\n",
       "      <td>39</td>\n",
       "    </tr>\n",
       "    <tr>\n",
       "      <th>1</th>\n",
       "      <td>9</td>\n",
       "      <td>41</td>\n",
       "    </tr>\n",
       "    <tr>\n",
       "      <th>2</th>\n",
       "      <td>18</td>\n",
       "      <td>69</td>\n",
       "    </tr>\n",
       "    <tr>\n",
       "      <th>3</th>\n",
       "      <td>7</td>\n",
       "      <td>16</td>\n",
       "    </tr>\n",
       "  </tbody>\n",
       "</table>\n",
       "</div>"
      ],
      "text/plain": [
       "target    0   1\n",
       "cp             \n",
       "0       104  39\n",
       "1         9  41\n",
       "2        18  69\n",
       "3         7  16"
      ]
     },
     "execution_count": 13,
     "metadata": {},
     "output_type": "execute_result"
    }
   ],
   "source": [
    "#Exploring Data\n",
    "pd.crosstab(df.cp,df.target)"
   ]
  },
  {
   "cell_type": "code",
   "execution_count": 14,
   "id": "d2f88734",
   "metadata": {
    "execution": {
     "iopub.execute_input": "2023-05-18T20:49:20.139506Z",
     "iopub.status.busy": "2023-05-18T20:49:20.139178Z",
     "iopub.status.idle": "2023-05-18T20:49:20.354988Z",
     "shell.execute_reply": "2023-05-18T20:49:20.353914Z"
    },
    "papermill": {
     "duration": 0.235554,
     "end_time": "2023-05-18T20:49:20.357709",
     "exception": false,
     "start_time": "2023-05-18T20:49:20.122155",
     "status": "completed"
    },
    "tags": []
   },
   "outputs": [
    {
     "data": {
      "text/plain": [
       "(array([0, 1, 2, 3]),\n",
       " [Text(0, 0, '0'), Text(1, 0, '1'), Text(2, 0, '2'), Text(3, 0, '3')])"
      ]
     },
     "execution_count": 14,
     "metadata": {},
     "output_type": "execute_result"
    },
    {
     "data": {
      "image/png": "[encoded data removed]",
      "text/plain": [
       "<Figure size 640x480 with 1 Axes>"
      ]
     },
     "metadata": {},
     "output_type": "display_data"
    }
   ],
   "source": [
    "#Creating Visualization\n",
    "pd.crosstab(df.cp,df.target).plot(kind = \"bar\",\n",
    "                                 color = [\"blue\" , \"red\"])\n",
    "plt.title(\"Heart Disease Distribution wrt Chest Pain type\")\n",
    "plt.xlabel('Chest pain type')\n",
    "plt.ylabel('Frequency')\n",
    "plt.legend([\"No Disease\" , \"Disease\"])\n",
    "plt.xticks(rotation = 0) #To keep the x-axis labels straight "
   ]
  },
  {
   "cell_type": "markdown",
   "id": "0ceaa2b3",
   "metadata": {
    "papermill": {
     "duration": 0.016684,
     "end_time": "2023-05-18T20:49:20.390669",
     "exception": false,
     "start_time": "2023-05-18T20:49:20.373985",
     "status": "completed"
    },
    "tags": []
   },
   "source": [
    "## Getting Correlation between different independent variables"
   ]
  },
  {
   "cell_type": "code",
   "execution_count": 15,
   "id": "cf33d4fe",
   "metadata": {
    "execution": {
     "iopub.execute_input": "2023-05-18T20:49:20.424485Z",
     "iopub.status.busy": "2023-05-18T20:49:20.424093Z",
     "iopub.status.idle": "2023-05-18T20:49:21.439398Z",
     "shell.execute_reply": "2023-05-18T20:49:21.438417Z"
    },
    "papermill": {
     "duration": 1.035752,
     "end_time": "2023-05-18T20:49:21.442704",
     "exception": false,
     "start_time": "2023-05-18T20:49:20.406952",
     "status": "completed"
    },
    "tags": []
   },
   "outputs": [
    {
     "data": {
      "text/plain": [
       "<AxesSubplot: >"
      ]
     },
     "execution_count": 15,
     "metadata": {},
     "output_type": "execute_result"
    },
    {
     "data": {
      "image/png": "[encoded data removed]",
      "text/plain": [
       "<Figure size 2000x1500 with 2 Axes>"
      ]
     },
     "metadata": {},
     "output_type": "display_data"
    }
   ],
   "source": [
    "correlation_matrix = df.corr()\n",
    "plt.figure(figsize = (20,15))\n",
    "sns.heatmap(correlation_matrix ,\n",
    "           annot = True,\n",
    "           linewidths = 0.5,\n",
    "           fmt = \".2f\")"
   ]
  },
  {
   "cell_type": "markdown",
   "id": "17cc7c9a",
   "metadata": {
    "papermill": {
     "duration": 0.019715,
     "end_time": "2023-05-18T20:49:21.482339",
     "exception": false,
     "start_time": "2023-05-18T20:49:21.462624",
     "status": "completed"
    },
    "tags": []
   },
   "source": [
    "## Preparing the Dataset\n"
   ]
  },
  {
   "cell_type": "code",
   "execution_count": 16,
   "id": "74652c0d",
   "metadata": {
    "execution": {
     "iopub.execute_input": "2023-05-18T20:49:21.522609Z",
     "iopub.status.busy": "2023-05-18T20:49:21.521656Z",
     "iopub.status.idle": "2023-05-18T20:49:21.527843Z",
     "shell.execute_reply": "2023-05-18T20:49:21.526854Z"
    },
    "papermill": {
     "duration": 0.028625,
     "end_time": "2023-05-18T20:49:21.530167",
     "exception": false,
     "start_time": "2023-05-18T20:49:21.501542",
     "status": "completed"
    },
    "tags": []
   },
   "outputs": [],
   "source": [
    "#First preparing the labels\n",
    "Y = df.target.values\n",
    "#Now dropping off the labels form the dataset\n",
    "X = df.drop(\"target\",axis = 1)"
   ]
  },
  {
   "cell_type": "code",
   "execution_count": 17,
   "id": "4749b0e0",
   "metadata": {
    "execution": {
     "iopub.execute_input": "2023-05-18T20:49:21.568504Z",
     "iopub.status.busy": "2023-05-18T20:49:21.568158Z",
     "iopub.status.idle": "2023-05-18T20:49:21.573490Z",
     "shell.execute_reply": "2023-05-18T20:49:21.572883Z"
    },
    "papermill": {
     "duration": 0.026373,
     "end_time": "2023-05-18T20:49:21.575141",
     "exception": false,
     "start_time": "2023-05-18T20:49:21.548768",
     "status": "completed"
    },
    "tags": []
   },
   "outputs": [],
   "source": [
    "#Now performing Training and testind split\n",
    "\n",
    "#Setting up random seed for reproducibility\n",
    "np.random.seed(51)\n",
    "\n",
    "#Now splitting the data\n",
    "X_train , X_test , Y_train , Y_test = train_test_split(X,Y,test_size = 0.2)"
   ]
  },
  {
   "cell_type": "code",
   "execution_count": 18,
   "id": "736d4c82",
   "metadata": {
    "execution": {
     "iopub.execute_input": "2023-05-18T20:49:21.619199Z",
     "iopub.status.busy": "2023-05-18T20:49:21.618237Z",
     "iopub.status.idle": "2023-05-18T20:49:21.626133Z",
     "shell.execute_reply": "2023-05-18T20:49:21.624774Z"
    },
    "papermill": {
     "duration": 0.035412,
     "end_time": "2023-05-18T20:49:21.629762",
     "exception": false,
     "start_time": "2023-05-18T20:49:21.594350",
     "status": "completed"
    },
    "tags": []
   },
   "outputs": [
    {
     "data": {
      "text/plain": [
       "(array([0, 0, 0, 1, 0, 1, 1, 1, 0, 1, 0, 1, 1, 1, 0, 0, 1, 1, 1, 0, 1, 1,\n",
       "        1, 0, 1, 0, 1, 1, 1, 0, 1, 1, 0, 1, 1, 1, 1, 0, 1, 0, 0, 1, 0, 1,\n",
       "        0, 0, 1, 1, 0, 0, 1, 0, 1, 1, 1, 0, 0, 1, 1, 1, 0, 0, 1, 1, 0, 0,\n",
       "        0, 1, 1, 1, 0, 1, 1, 1, 0, 0, 1, 0, 0, 0, 1, 1, 1, 0, 1, 1, 1, 1,\n",
       "        1, 0, 1, 0, 1, 0, 0, 0, 1, 0, 0, 1, 1, 1, 0, 1, 0, 1, 1, 1, 1, 0,\n",
       "        1, 0, 1, 0, 1, 0, 0, 0, 0, 0, 1, 1, 1, 0, 1, 1, 0, 1, 1, 0, 0, 1,\n",
       "        0, 0, 0, 0, 1, 0, 1, 1, 0, 1, 1, 1, 1, 0, 1, 0, 0, 1, 1, 1, 0, 0,\n",
       "        1, 0, 0, 0, 0, 1, 1, 0, 0, 1, 0, 1, 1, 1, 1, 0, 1, 0, 0, 1, 0, 1,\n",
       "        1, 1, 0, 0, 0, 1, 1, 0, 1, 1, 1, 0, 0, 1, 0, 1, 0, 1, 0, 0, 1, 1,\n",
       "        1, 1, 1, 1, 0, 1, 1, 1, 1, 1, 1, 0, 1, 1, 1, 0, 0, 0, 0, 0, 0, 1,\n",
       "        0, 0, 0, 0, 0, 1, 0, 1, 0, 1, 0, 1, 1, 1, 1, 1, 1, 0, 1, 0, 0, 1]),\n",
       " 242,\n",
       " array([0, 0, 1, 1, 1, 1, 1, 0, 0, 0, 0, 0, 1, 1, 0, 1, 0, 1, 0, 0, 0, 1,\n",
       "        0, 0, 0, 0, 1, 1, 0, 1, 1, 0, 1, 0, 1, 0, 1, 1, 0, 0, 0, 0, 1, 1,\n",
       "        1, 0, 1, 1, 1, 1, 1, 1, 1, 1, 0, 0, 1, 0, 0, 1, 0]),\n",
       " 61)"
      ]
     },
     "execution_count": 18,
     "metadata": {},
     "output_type": "execute_result"
    }
   ],
   "source": [
    "Y_train, len(Y_train) , Y_test , len(Y_test)"
   ]
  },
  {
   "cell_type": "markdown",
   "id": "983b50d9",
   "metadata": {
    "papermill": {
     "duration": 0.018038,
     "end_time": "2023-05-18T20:49:21.667780",
     "exception": false,
     "start_time": "2023-05-18T20:49:21.649742",
     "status": "completed"
    },
    "tags": []
   },
   "source": [
    "## Modelling\n",
    "\n",
    "Here we will make the following models and compare their outputs\n",
    "1. Logistic Regression\n",
    "2. KNeighboursClassifier\n",
    "3. RandomForestClassifier"
   ]
  },
  {
   "cell_type": "code",
   "execution_count": 19,
   "id": "cb759079",
   "metadata": {
    "execution": {
     "iopub.execute_input": "2023-05-18T20:49:21.707705Z",
     "iopub.status.busy": "2023-05-18T20:49:21.706483Z",
     "iopub.status.idle": "2023-05-18T20:49:21.713595Z",
     "shell.execute_reply": "2023-05-18T20:49:21.712856Z"
    },
    "papermill": {
     "duration": 0.029911,
     "end_time": "2023-05-18T20:49:21.715839",
     "exception": false,
     "start_time": "2023-05-18T20:49:21.685928",
     "status": "completed"
    },
    "tags": []
   },
   "outputs": [],
   "source": [
    "#First putting all the models in a dictionary\n",
    "\n",
    "models = {\"KNN\" : KNeighborsClassifier(),\n",
    "         \"Logistic Regression\" : LogisticRegression(),\n",
    "         \"Random Forest\" : RandomForestClassifier()}\n",
    "\n",
    "#Now creating a finction to fit and score models\n",
    "\n",
    "def fit_and_score(models,X_train,X_test,Y_train,Y_test):\n",
    "    \"\"\"\n",
    "    Fits and evaluates given machine learning models.\n",
    "    models : a dict of different Scikit-Learn machine learning models\n",
    "    X_train : training data\n",
    "    X_test : testing data\n",
    "    y_train : labels assosciated with training data\n",
    "    y_test : labels assosciated with test data\n",
    "    \"\"\"\n",
    "    #Setting up a random seed\n",
    "    np.random.seed(42)\n",
    "    \n",
    "    #Making a lsit to store model scores\n",
    "    model_scores = {}\n",
    "    \n",
    "    #Loop through models\n",
    "    \n",
    "\n",
    "    for name,model in models.items():\n",
    "        #Fit the model  to the data\n",
    "        model.fit(X_train,Y_train)\n",
    "        #Evaluate the model and store the scores in model_scores list\n",
    "        model_scores[name] = model.score(X_test,Y_test)\n",
    "    return model_scores"
   ]
  },
  {
   "cell_type": "code",
   "execution_count": 20,
   "id": "511b2a0f",
   "metadata": {
    "execution": {
     "iopub.execute_input": "2023-05-18T20:49:21.756977Z",
     "iopub.status.busy": "2023-05-18T20:49:21.755831Z",
     "iopub.status.idle": "2023-05-18T20:49:21.962874Z",
     "shell.execute_reply": "2023-05-18T20:49:21.961151Z"
    },
    "papermill": {
     "duration": 0.230113,
     "end_time": "2023-05-18T20:49:21.964979",
     "exception": false,
     "start_time": "2023-05-18T20:49:21.734866",
     "status": "completed"
    },
    "tags": []
   },
   "outputs": [
    {
     "name": "stdout",
     "output_type": "stream",
     "text": [
      "{'KNN': 0.7049180327868853, 'Logistic Regression': 0.8524590163934426, 'Random Forest': 0.819672131147541}\n"
     ]
    },
    {
     "name": "stderr",
     "output_type": "stream",
     "text": [
      "/opt/conda/lib/python3.10/site-packages/sklearn/linear_model/_logistic.py:458: ConvergenceWarning: lbfgs failed to converge (status=1):\n",
      "STOP: TOTAL NO. of ITERATIONS REACHED LIMIT.\n",
      "\n",
      "Increase the number of iterations (max_iter) or scale the data as shown in:\n",
      "    https://scikit-learn.org/stable/modules/preprocessing.html\n",
      "Please also refer to the documentation for alternative solver options:\n",
      "    https://scikit-learn.org/stable/modules/linear_model.html#logistic-regression\n",
      "  n_iter_i = _check_optimize_result(\n"
     ]
    }
   ],
   "source": [
    "model_scores = fit_and_score(models,X_train,X_test,Y_train,Y_test)\n",
    "print(model_scores)"
   ]
  },
  {
   "cell_type": "markdown",
   "id": "21015e39",
   "metadata": {
    "papermill": {
     "duration": 0.018745,
     "end_time": "2023-05-18T20:49:22.002117",
     "exception": false,
     "start_time": "2023-05-18T20:49:21.983372",
     "status": "completed"
    },
    "tags": []
   },
   "source": [
    "## Model Comparision"
   ]
  },
  {
   "cell_type": "code",
   "execution_count": 21,
   "id": "f6d41e62",
   "metadata": {
    "execution": {
     "iopub.execute_input": "2023-05-18T20:49:22.041482Z",
     "iopub.status.busy": "2023-05-18T20:49:22.041130Z",
     "iopub.status.idle": "2023-05-18T20:49:22.213085Z",
     "shell.execute_reply": "2023-05-18T20:49:22.212159Z"
    },
    "papermill": {
     "duration": 0.193933,
     "end_time": "2023-05-18T20:49:22.214981",
     "exception": false,
     "start_time": "2023-05-18T20:49:22.021048",
     "status": "completed"
    },
    "tags": []
   },
   "outputs": [
    {
     "data": {
      "image/png": "[encoded data removed]",
      "text/plain": [
       "<Figure size 640x480 with 1 Axes>"
      ]
     },
     "metadata": {},
     "output_type": "display_data"
    }
   ],
   "source": [
    "model_compare = pd.DataFrame(model_scores,index = ['accuracy'])\n",
    "model_compare.T.plot.bar();"
   ]
  },
  {
   "cell_type": "markdown",
   "id": "ddac85a5",
   "metadata": {
    "papermill": {
     "duration": 0.022412,
     "end_time": "2023-05-18T20:49:22.256721",
     "exception": false,
     "start_time": "2023-05-18T20:49:22.234309",
     "status": "completed"
    },
    "tags": []
   },
   "source": [
    "## Hyperparatemter tuning\n"
   ]
  },
  {
   "cell_type": "code",
   "execution_count": 22,
   "id": "c763639b",
   "metadata": {
    "execution": {
     "iopub.execute_input": "2023-05-18T20:49:22.299704Z",
     "iopub.status.busy": "2023-05-18T20:49:22.299334Z",
     "iopub.status.idle": "2023-05-18T20:49:22.668512Z",
     "shell.execute_reply": "2023-05-18T20:49:22.667613Z"
    },
    "papermill": {
     "duration": 0.393478,
     "end_time": "2023-05-18T20:49:22.670761",
     "exception": false,
     "start_time": "2023-05-18T20:49:22.277283",
     "status": "completed"
    },
    "tags": []
   },
   "outputs": [],
   "source": [
    "#First tuning KNN\n",
    "# The default value of K in KNN is k = 5, now we will experiment for different values of k\n",
    "\n",
    "train_scores = [] #This is a list for training scores\n",
    "test_scores = [] #This is a list for testing scores\n",
    "knn = KNeighborsClassifier()\n",
    "k_values = range(1,25)\n",
    "\n",
    "#Loop throught different values of k\n",
    "\n",
    "for i in k_values:\n",
    "    knn.set_params(n_neighbors = i)\n",
    "    knn.fit(X_train,Y_train)\n",
    "    train_scores.append(knn.score(X_train,Y_train))\n",
    "    test_scores.append(knn.score(X_test,Y_test))\n"
   ]
  },
  {
   "cell_type": "code",
   "execution_count": 23,
   "id": "7603198e",
   "metadata": {
    "execution": {
     "iopub.execute_input": "2023-05-18T20:49:22.711139Z",
     "iopub.status.busy": "2023-05-18T20:49:22.710777Z",
     "iopub.status.idle": "2023-05-18T20:49:22.947448Z",
     "shell.execute_reply": "2023-05-18T20:49:22.946248Z"
    },
    "papermill": {
     "duration": 0.260367,
     "end_time": "2023-05-18T20:49:22.950543",
     "exception": false,
     "start_time": "2023-05-18T20:49:22.690176",
     "status": "completed"
    },
    "tags": []
   },
   "outputs": [
    {
     "name": "stdout",
     "output_type": "stream",
     "text": [
      "Maximum KNN score on the test data: 75.41%\n"
     ]
    },
    {
     "data": {
      "image/png": "[encoded data removed]",
      "text/plain": [
       "<Figure size 640x480 with 1 Axes>"
      ]
     },
     "metadata": {},
     "output_type": "display_data"
    }
   ],
   "source": [
    "plt.plot(k_values, train_scores, label=\"Train score\")\n",
    "plt.plot(k_values, test_scores, label=\"Test score\")\n",
    "plt.xticks(np.arange(1, 21, 1))\n",
    "plt.xlabel(\"Number of neighbors\")\n",
    "plt.ylabel(\"Model score\")\n",
    "plt.legend()\n",
    "\n",
    "print(f\"Maximum KNN score on the test data: {max(test_scores)*100:.2f}%\")"
   ]
  },
  {
   "cell_type": "markdown",
   "id": "1bf96aea",
   "metadata": {
    "papermill": {
     "duration": 0.020574,
     "end_time": "2023-05-18T20:49:22.990995",
     "exception": false,
     "start_time": "2023-05-18T20:49:22.970421",
     "status": "completed"
    },
    "tags": []
   },
   "source": [
    "## Now tuning LogisticRegression & RandomForestClassifier\n",
    "\n",
    "The hyperparameters used for each model here are defined in two seperate dictionaries `log_reg_grid` and `rf_grid`:\n",
    "\n",
    "For Logistic Regression, the hyperparameters used are:\n",
    "\n",
    "- `C`: The inverse of regularization strength, with values ranging from 0.0001 to 10,000. Higher values of C indicate less regularization, allowing the model to fit more complex patterns in the data.\n",
    "- `solver`: The algorithm to be used for optimization. Here, the \"liblinear\" solver is used, which is recommended for small datasets.\n",
    "\n",
    "For Random Forest Classifier, the hyperparameters used are:\n",
    "\n",
    "- `n_estimators`: The number of decision trees to be included in the random forest. Values range from 10 to 1000, with increments of 50.\n",
    "- `max_depth`: The maximum depth of each decision tree in the forest. Values include `None`, which means that nodes will be expanded until all leaves are pure, and 3, 5, and 10, which represent the maximum number of levels in the tree.\n",
    "- `min_samples_split`: The minimum number of samples required to split a node. Values range from 2 to 20, with increments of 2.\n",
    "- `min_samples_leaf`: The minimum number of samples required to be at a leaf node. Values range from 1 to 20, with increments of 2."
   ]
  },
  {
   "cell_type": "code",
   "execution_count": 24,
   "id": "ed828889",
   "metadata": {
    "execution": {
     "iopub.execute_input": "2023-05-18T20:49:23.032331Z",
     "iopub.status.busy": "2023-05-18T20:49:23.031697Z",
     "iopub.status.idle": "2023-05-18T20:49:23.038661Z",
     "shell.execute_reply": "2023-05-18T20:49:23.036969Z"
    },
    "papermill": {
     "duration": 0.03039,
     "end_time": "2023-05-18T20:49:23.041487",
     "exception": false,
     "start_time": "2023-05-18T20:49:23.011097",
     "status": "completed"
    },
    "tags": []
   },
   "outputs": [],
   "source": [
    "log_reg_grid = {\"C\":np.logspace(-4,4-20),\n",
    "               \"solver\":[\"liblinear\"]}\n",
    "\n",
    "rf_grid = {\"n_estimators\": np.arange(10, 1000, 50),\n",
    "           \"max_depth\": [None, 3, 5, 10],\n",
    "           \"min_samples_split\": np.arange(2, 20, 2),\n",
    "           \"min_samples_leaf\": np.arange(1, 20, 2)}"
   ]
  },
  {
   "cell_type": "markdown",
   "id": "b9a06649",
   "metadata": {
    "papermill": {
     "duration": 0.019629,
     "end_time": "2023-05-18T20:49:23.081850",
     "exception": false,
     "start_time": "2023-05-18T20:49:23.062221",
     "status": "completed"
    },
    "tags": []
   },
   "source": [
    "### Tuning the Logistic Regression model using RandomizedSearchCV\n",
    "\n",
    "The code you provided is using scikit-learn's `RandomizedSearchCV` class to perform a randomized search for the best hyperparameters for a Logistic Regression model.\n",
    "\n",
    "Here's a breakdown of the code:\n",
    "\n",
    "1. `RandomizedSearchCV` is a class that performs hyperparameter tuning by sampling a fixed number of combinations from a specified hyperparameter distribution.\n",
    "2. The first argument `LogisticRegression()` is the estimator object, which represents the Logistic Regression model.\n",
    "3. `param_distributions` is set to `log_reg_grid`, which is the dictionary of hyperparameters defined earlier.\n",
    "4. `cv=5` specifies a 5-fold cross-validation strategy. It means the data will be split into 5 equal parts, and the model will be trained and evaluated 5 times, with each part serving as the validation set once.\n",
    "5. `n_iter=20` determines the number of parameter settings that will be sampled. In this case, 20 different combinations of hyperparameters will be tested.\n",
    "6. `verbose=True` prints detailed information about the progress of the search.\n",
    "\n",
    "Once this code is executed, the `RandomizedSearchCV` object `rs_log_reg` will be created and can be used to fit the data and find the best hyperparameters for the Logistic Regression model."
   ]
  },
  {
   "cell_type": "code",
   "execution_count": 25,
   "id": "878984e6",
   "metadata": {
    "execution": {
     "iopub.execute_input": "2023-05-18T20:49:23.125275Z",
     "iopub.status.busy": "2023-05-18T20:49:23.124947Z",
     "iopub.status.idle": "2023-05-18T20:49:23.130053Z",
     "shell.execute_reply": "2023-05-18T20:49:23.128814Z"
    },
    "papermill": {
     "duration": 0.031434,
     "end_time": "2023-05-18T20:49:23.133121",
     "exception": false,
     "start_time": "2023-05-18T20:49:23.101687",
     "status": "completed"
    },
    "tags": []
   },
   "outputs": [],
   "source": [
    "rs_log_reg = RandomizedSearchCV(LogisticRegression(),\n",
    "                                param_distributions=log_reg_grid,\n",
    "                                cv=5,\n",
    "                                n_iter=20,\n",
    "                                verbose=True)"
   ]
  },
  {
   "cell_type": "code",
   "execution_count": 26,
   "id": "291703ac",
   "metadata": {
    "execution": {
     "iopub.execute_input": "2023-05-18T20:49:23.178372Z",
     "iopub.status.busy": "2023-05-18T20:49:23.178019Z",
     "iopub.status.idle": "2023-05-18T20:49:23.599120Z",
     "shell.execute_reply": "2023-05-18T20:49:23.597624Z"
    },
    "papermill": {
     "duration": 0.447376,
     "end_time": "2023-05-18T20:49:23.601743",
     "exception": false,
     "start_time": "2023-05-18T20:49:23.154367",
     "status": "completed"
    },
    "tags": []
   },
   "outputs": [
    {
     "name": "stdout",
     "output_type": "stream",
     "text": [
      "Fitting 5 folds for each of 20 candidates, totalling 100 fits\n"
     ]
    }
   ],
   "source": [
    "# Fit random hyperparameter search model\n",
    "rs_log_reg.fit(X_train, Y_train);"
   ]
  },
  {
   "cell_type": "code",
   "execution_count": 27,
   "id": "32b521bd",
   "metadata": {
    "execution": {
     "iopub.execute_input": "2023-05-18T20:49:23.643535Z",
     "iopub.status.busy": "2023-05-18T20:49:23.642644Z",
     "iopub.status.idle": "2023-05-18T20:49:23.649679Z",
     "shell.execute_reply": "2023-05-18T20:49:23.648650Z"
    },
    "papermill": {
     "duration": 0.030351,
     "end_time": "2023-05-18T20:49:23.651752",
     "exception": false,
     "start_time": "2023-05-18T20:49:23.621401",
     "status": "completed"
    },
    "tags": []
   },
   "outputs": [
    {
     "data": {
      "text/plain": [
       "{'solver': 'liblinear', 'C': 5.689866029018293e-05}"
      ]
     },
     "execution_count": 27,
     "metadata": {},
     "output_type": "execute_result"
    }
   ],
   "source": [
    "rs_log_reg.best_params_"
   ]
  },
  {
   "cell_type": "code",
   "execution_count": 28,
   "id": "c4760de4",
   "metadata": {
    "execution": {
     "iopub.execute_input": "2023-05-18T20:49:23.692741Z",
     "iopub.status.busy": "2023-05-18T20:49:23.692410Z",
     "iopub.status.idle": "2023-05-18T20:49:23.701128Z",
     "shell.execute_reply": "2023-05-18T20:49:23.699916Z"
    },
    "papermill": {
     "duration": 0.031544,
     "end_time": "2023-05-18T20:49:23.703060",
     "exception": false,
     "start_time": "2023-05-18T20:49:23.671516",
     "status": "completed"
    },
    "tags": []
   },
   "outputs": [
    {
     "data": {
      "text/plain": [
       "0.6065573770491803"
      ]
     },
     "execution_count": 28,
     "metadata": {},
     "output_type": "execute_result"
    }
   ],
   "source": [
    "rs_log_reg.score(X_test, Y_test)"
   ]
  },
  {
   "cell_type": "markdown",
   "id": "7f0c85ab",
   "metadata": {
    "papermill": {
     "duration": 0.020439,
     "end_time": "2023-05-18T20:49:23.743165",
     "exception": false,
     "start_time": "2023-05-18T20:49:23.722726",
     "status": "completed"
    },
    "tags": []
   },
   "source": [
    "### Now doing the same with Random forest Classifier"
   ]
  },
  {
   "cell_type": "code",
   "execution_count": 29,
   "id": "02cb3fd3",
   "metadata": {
    "execution": {
     "iopub.execute_input": "2023-05-18T20:49:23.787534Z",
     "iopub.status.busy": "2023-05-18T20:49:23.787200Z",
     "iopub.status.idle": "2023-05-18T20:49:23.792748Z",
     "shell.execute_reply": "2023-05-18T20:49:23.791350Z"
    },
    "papermill": {
     "duration": 0.031252,
     "end_time": "2023-05-18T20:49:23.795377",
     "exception": false,
     "start_time": "2023-05-18T20:49:23.764125",
     "status": "completed"
    },
    "tags": []
   },
   "outputs": [],
   "source": [
    "rs_rf = RandomizedSearchCV(RandomForestClassifier(),\n",
    "                           param_distributions=rf_grid,\n",
    "                           cv=5,\n",
    "                           n_iter=20,\n",
    "                           verbose=True)"
   ]
  },
  {
   "cell_type": "code",
   "execution_count": 30,
   "id": "aa637158",
   "metadata": {
    "execution": {
     "iopub.execute_input": "2023-05-18T20:49:23.836777Z",
     "iopub.status.busy": "2023-05-18T20:49:23.836418Z",
     "iopub.status.idle": "2023-05-18T20:50:44.521003Z",
     "shell.execute_reply": "2023-05-18T20:50:44.519403Z"
    },
    "papermill": {
     "duration": 80.708215,
     "end_time": "2023-05-18T20:50:44.523501",
     "exception": false,
     "start_time": "2023-05-18T20:49:23.815286",
     "status": "completed"
    },
    "tags": []
   },
   "outputs": [
    {
     "name": "stdout",
     "output_type": "stream",
     "text": [
      "Fitting 5 folds for each of 20 candidates, totalling 100 fits\n"
     ]
    }
   ],
   "source": [
    "rs_rf.fit(X_train, Y_train);"
   ]
  },
  {
   "cell_type": "code",
   "execution_count": 31,
   "id": "12788b18",
   "metadata": {
    "execution": {
     "iopub.execute_input": "2023-05-18T20:50:44.565332Z",
     "iopub.status.busy": "2023-05-18T20:50:44.565015Z",
     "iopub.status.idle": "2023-05-18T20:50:44.571616Z",
     "shell.execute_reply": "2023-05-18T20:50:44.570380Z"
    },
    "papermill": {
     "duration": 0.029824,
     "end_time": "2023-05-18T20:50:44.573646",
     "exception": false,
     "start_time": "2023-05-18T20:50:44.543822",
     "status": "completed"
    },
    "tags": []
   },
   "outputs": [
    {
     "data": {
      "text/plain": [
       "{'n_estimators': 60,\n",
       " 'min_samples_split': 18,\n",
       " 'min_samples_leaf': 19,\n",
       " 'max_depth': 3}"
      ]
     },
     "execution_count": 31,
     "metadata": {},
     "output_type": "execute_result"
    }
   ],
   "source": [
    "rs_rf.best_params_"
   ]
  },
  {
   "cell_type": "code",
   "execution_count": 32,
   "id": "75b24288",
   "metadata": {
    "execution": {
     "iopub.execute_input": "2023-05-18T20:50:44.616601Z",
     "iopub.status.busy": "2023-05-18T20:50:44.616095Z",
     "iopub.status.idle": "2023-05-18T20:50:44.630403Z",
     "shell.execute_reply": "2023-05-18T20:50:44.629540Z"
    },
    "papermill": {
     "duration": 0.038624,
     "end_time": "2023-05-18T20:50:44.632268",
     "exception": false,
     "start_time": "2023-05-18T20:50:44.593644",
     "status": "completed"
    },
    "tags": []
   },
   "outputs": [
    {
     "data": {
      "text/plain": [
       "0.819672131147541"
      ]
     },
     "execution_count": 32,
     "metadata": {},
     "output_type": "execute_result"
    }
   ],
   "source": [
    "rs_rf.score(X_test, Y_test)"
   ]
  },
  {
   "cell_type": "markdown",
   "id": "3c2451cf",
   "metadata": {
    "papermill": {
     "duration": 0.021096,
     "end_time": "2023-05-18T20:50:44.674874",
     "exception": false,
     "start_time": "2023-05-18T20:50:44.653778",
     "status": "completed"
    },
    "tags": []
   },
   "source": [
    "## Tuning the mdoels with GridSearchCV\n",
    "\n",
    "* RandomizedSearchCV - tries n_iter combinations of hyperparameters and saves the best.\n",
    "* GridSearchCV - tries every single combination of hyperparameters and saves the best."
   ]
  },
  {
   "cell_type": "code",
   "execution_count": 33,
   "id": "15827619",
   "metadata": {
    "execution": {
     "iopub.execute_input": "2023-05-18T20:50:44.718457Z",
     "iopub.status.busy": "2023-05-18T20:50:44.718056Z",
     "iopub.status.idle": "2023-05-18T20:50:45.742308Z",
     "shell.execute_reply": "2023-05-18T20:50:45.741012Z"
    },
    "papermill": {
     "duration": 1.04866,
     "end_time": "2023-05-18T20:50:45.744218",
     "exception": false,
     "start_time": "2023-05-18T20:50:44.695558",
     "status": "completed"
    },
    "tags": []
   },
   "outputs": [
    {
     "name": "stdout",
     "output_type": "stream",
     "text": [
      "Fitting 5 folds for each of 50 candidates, totalling 250 fits\n"
     ]
    },
    {
     "data": {
      "text/html": [
       "<style>#sk-container-id-1 {color: black;background-color: white;}#sk-container-id-1 pre{padding: 0;}#sk-container-id-1 div.sk-toggleable {background-color: white;}#sk-container-id-1 label.sk-toggleable__label {cursor: pointer;display: block;width: 100%;margin-bottom: 0;padding: 0.3em;box-sizing: border-box;text-align: center;}#sk-container-id-1 label.sk-toggleable__label-arrow:before {content: \"▸\";float: left;margin-right: 0.25em;color: #696969;}#sk-container-id-1 label.sk-toggleable__label-arrow:hover:before {color: black;}#sk-container-id-1 div.sk-estimator:hover label.sk-toggleable__label-arrow:before {color: black;}#sk-container-id-1 div.sk-toggleable__content {max-height: 0;max-width: 0;overflow: hidden;text-align: left;background-color: #f0f8ff;}#sk-container-id-1 div.sk-toggleable__content pre {margin: 0.2em;color: black;border-radius: 0.25em;background-color: #f0f8ff;}#sk-container-id-1 input.sk-toggleable__control:checked~div.sk-toggleable__content {max-height: 200px;max-width: 100%;overflow: auto;}#sk-container-id-1 input.sk-toggleable__control:checked~label.sk-toggleable__label-arrow:before {content: \"▾\";}#sk-container-id-1 div.sk-estimator input.sk-toggleable__control:checked~label.sk-toggleable__label {background-color: #d4ebff;}#sk-container-id-1 div.sk-label input.sk-toggleable__control:checked~label.sk-toggleable__label {background-color: #d4ebff;}#sk-container-id-1 input.sk-hidden--visually {border: 0;clip: rect(1px 1px 1px 1px);clip: rect(1px, 1px, 1px, 1px);height: 1px;margin: -1px;overflow: hidden;padding: 0;position: absolute;width: 1px;}#sk-container-id-1 div.sk-estimator {font-family: monospace;background-color: #f0f8ff;border: 1px dotted black;border-radius: 0.25em;box-sizing: border-box;margin-bottom: 0.5em;}#sk-container-id-1 div.sk-estimator:hover {background-color: #d4ebff;}#sk-container-id-1 div.sk-parallel-item::after {content: \"\";width: 100%;border-bottom: 1px solid gray;flex-grow: 1;}#sk-container-id-1 div.sk-label:hover label.sk-toggleable__label {background-color: #d4ebff;}#sk-container-id-1 div.sk-serial::before {content: \"\";position: absolute;border-left: 1px solid gray;box-sizing: border-box;top: 0;bottom: 0;left: 50%;z-index: 0;}#sk-container-id-1 div.sk-serial {display: flex;flex-direction: column;align-items: center;background-color: white;padding-right: 0.2em;padding-left: 0.2em;position: relative;}#sk-container-id-1 div.sk-item {position: relative;z-index: 1;}#sk-container-id-1 div.sk-parallel {display: flex;align-items: stretch;justify-content: center;background-color: white;position: relative;}#sk-container-id-1 div.sk-item::before, #sk-container-id-1 div.sk-parallel-item::before {content: \"\";position: absolute;border-left: 1px solid gray;box-sizing: border-box;top: 0;bottom: 0;left: 50%;z-index: -1;}#sk-container-id-1 div.sk-parallel-item {display: flex;flex-direction: column;z-index: 1;position: relative;background-color: white;}#sk-container-id-1 div.sk-parallel-item:first-child::after {align-self: flex-end;width: 50%;}#sk-container-id-1 div.sk-parallel-item:last-child::after {align-self: flex-start;width: 50%;}#sk-container-id-1 div.sk-parallel-item:only-child::after {width: 0;}#sk-container-id-1 div.sk-dashed-wrapped {border: 1px dashed gray;margin: 0 0.4em 0.5em 0.4em;box-sizing: border-box;padding-bottom: 0.4em;background-color: white;}#sk-container-id-1 div.sk-label label {font-family: monospace;font-weight: bold;display: inline-block;line-height: 1.2em;}#sk-container-id-1 div.sk-label-container {text-align: center;}#sk-container-id-1 div.sk-container {/* jupyter's `normalize.less` sets `[hidden] { display: none; }` but bootstrap.min.css set `[hidden] { display: none !important; }` so we also need the `!important` here to be able to override the default hidden behavior on the sphinx rendered scikit-learn.org. See: https://github.com/scikit-learn/scikit-learn/issues/21755 */display: inline-block !important;position: relative;}#sk-container-id-1 div.sk-text-repr-fallback {display: none;}</style><div id=\"sk-container-id-1\" class=\"sk-top-container\"><div class=\"sk-text-repr-fallback\"><pre>GridSearchCV(cv=5, estimator=LogisticRegression(),\n",
       "             param_grid={&#x27;C&#x27;: array([1.00000000e-04, 5.68986603e-05, 3.23745754e-05, 1.84206997e-05,\n",
       "       1.04811313e-05, 5.96362332e-06, 3.39322177e-06, 1.93069773e-06,\n",
       "       1.09854114e-06, 6.25055193e-07, 3.55648031e-07, 2.02358965e-07,\n",
       "       1.15139540e-07, 6.55128557e-08, 3.72759372e-08, 2.12095089e-08,\n",
       "       1.20679264e-08, 6.86648845e-09, 3.906939...\n",
       "       1.38949549e-11, 7.90604321e-12, 4.49843267e-12, 2.55954792e-12,\n",
       "       1.45634848e-12, 8.28642773e-13, 4.71486636e-13, 2.68269580e-13,\n",
       "       1.52641797e-13, 8.68511374e-14, 4.94171336e-14, 2.81176870e-14,\n",
       "       1.59985872e-14, 9.10298178e-15, 5.17947468e-15, 2.94705170e-15,\n",
       "       1.67683294e-15, 9.54095476e-16, 5.42867544e-16, 3.08884360e-16,\n",
       "       1.75751062e-16, 1.00000000e-16]),\n",
       "                         &#x27;solver&#x27;: [&#x27;liblinear&#x27;]},\n",
       "             verbose=True)</pre><b>In a Jupyter environment, please rerun this cell to show the HTML representation or trust the notebook. <br />On GitHub, the HTML representation is unable to render, please try loading this page with nbviewer.org.</b></div><div class=\"sk-container\" hidden><div class=\"sk-item sk-dashed-wrapped\"><div class=\"sk-label-container\"><div class=\"sk-label sk-toggleable\"><input class=\"sk-toggleable__control sk-hidden--visually\" id=\"sk-estimator-id-1\" type=\"checkbox\" ><label for=\"sk-estimator-id-1\" class=\"sk-toggleable__label sk-toggleable__label-arrow\">GridSearchCV</label><div class=\"sk-toggleable__content\"><pre>GridSearchCV(cv=5, estimator=LogisticRegression(),\n",
       "             param_grid={&#x27;C&#x27;: array([1.00000000e-04, 5.68986603e-05, 3.23745754e-05, 1.84206997e-05,\n",
       "       1.04811313e-05, 5.96362332e-06, 3.39322177e-06, 1.93069773e-06,\n",
       "       1.09854114e-06, 6.25055193e-07, 3.55648031e-07, 2.02358965e-07,\n",
       "       1.15139540e-07, 6.55128557e-08, 3.72759372e-08, 2.12095089e-08,\n",
       "       1.20679264e-08, 6.86648845e-09, 3.906939...\n",
       "       1.38949549e-11, 7.90604321e-12, 4.49843267e-12, 2.55954792e-12,\n",
       "       1.45634848e-12, 8.28642773e-13, 4.71486636e-13, 2.68269580e-13,\n",
       "       1.52641797e-13, 8.68511374e-14, 4.94171336e-14, 2.81176870e-14,\n",
       "       1.59985872e-14, 9.10298178e-15, 5.17947468e-15, 2.94705170e-15,\n",
       "       1.67683294e-15, 9.54095476e-16, 5.42867544e-16, 3.08884360e-16,\n",
       "       1.75751062e-16, 1.00000000e-16]),\n",
       "                         &#x27;solver&#x27;: [&#x27;liblinear&#x27;]},\n",
       "             verbose=True)</pre></div></div></div><div class=\"sk-parallel\"><div class=\"sk-parallel-item\"><div class=\"sk-item\"><div class=\"sk-label-container\"><div class=\"sk-label sk-toggleable\"><input class=\"sk-toggleable__control sk-hidden--visually\" id=\"sk-estimator-id-2\" type=\"checkbox\" ><label for=\"sk-estimator-id-2\" class=\"sk-toggleable__label sk-toggleable__label-arrow\">estimator: LogisticRegression</label><div class=\"sk-toggleable__content\"><pre>LogisticRegression()</pre></div></div></div><div class=\"sk-serial\"><div class=\"sk-item\"><div class=\"sk-estimator sk-toggleable\"><input class=\"sk-toggleable__control sk-hidden--visually\" id=\"sk-estimator-id-3\" type=\"checkbox\" ><label for=\"sk-estimator-id-3\" class=\"sk-toggleable__label sk-toggleable__label-arrow\">LogisticRegression</label><div class=\"sk-toggleable__content\"><pre>LogisticRegression()</pre></div></div></div></div></div></div></div></div></div></div>"
      ],
      "text/plain": [
       "GridSearchCV(cv=5, estimator=LogisticRegression(),\n",
       "             param_grid={'C': array([1.00000000e-04, 5.68986603e-05, 3.23745754e-05, 1.84206997e-05,\n",
       "       1.04811313e-05, 5.96362332e-06, 3.39322177e-06, 1.93069773e-06,\n",
       "       1.09854114e-06, 6.25055193e-07, 3.55648031e-07, 2.02358965e-07,\n",
       "       1.15139540e-07, 6.55128557e-08, 3.72759372e-08, 2.12095089e-08,\n",
       "       1.20679264e-08, 6.86648845e-09, 3.906939...\n",
       "       1.38949549e-11, 7.90604321e-12, 4.49843267e-12, 2.55954792e-12,\n",
       "       1.45634848e-12, 8.28642773e-13, 4.71486636e-13, 2.68269580e-13,\n",
       "       1.52641797e-13, 8.68511374e-14, 4.94171336e-14, 2.81176870e-14,\n",
       "       1.59985872e-14, 9.10298178e-15, 5.17947468e-15, 2.94705170e-15,\n",
       "       1.67683294e-15, 9.54095476e-16, 5.42867544e-16, 3.08884360e-16,\n",
       "       1.75751062e-16, 1.00000000e-16]),\n",
       "                         'solver': ['liblinear']},\n",
       "             verbose=True)"
      ]
     },
     "execution_count": 33,
     "metadata": {},
     "output_type": "execute_result"
    }
   ],
   "source": [
    "log_reg_grid = {\"C\":np.logspace(-4,4-20),\n",
    "               \"solver\":[\"liblinear\"]}\n",
    " \n",
    "\n",
    "gs_log_reg = GridSearchCV(LogisticRegression(),\n",
    "                         param_grid = log_reg_grid,\n",
    "                         cv = 5,\n",
    "                         verbose = True)\n",
    "\n",
    "gs_log_reg.fit(X_train, Y_train)"
   ]
  },
  {
   "cell_type": "code",
   "execution_count": 34,
   "id": "03ee85b4",
   "metadata": {
    "execution": {
     "iopub.execute_input": "2023-05-18T20:50:45.786887Z",
     "iopub.status.busy": "2023-05-18T20:50:45.786512Z",
     "iopub.status.idle": "2023-05-18T20:50:45.795137Z",
     "shell.execute_reply": "2023-05-18T20:50:45.794286Z"
    },
    "papermill": {
     "duration": 0.032083,
     "end_time": "2023-05-18T20:50:45.796889",
     "exception": false,
     "start_time": "2023-05-18T20:50:45.764806",
     "status": "completed"
    },
    "tags": []
   },
   "outputs": [
    {
     "data": {
      "text/plain": [
       "0.6557377049180327"
      ]
     },
     "execution_count": 34,
     "metadata": {},
     "output_type": "execute_result"
    }
   ],
   "source": [
    "gs_log_reg.score(X_test,Y_test)"
   ]
  },
  {
   "cell_type": "markdown",
   "id": "3e5d8084",
   "metadata": {
    "papermill": {
     "duration": 0.020231,
     "end_time": "2023-05-18T20:50:45.837443",
     "exception": false,
     "start_time": "2023-05-18T20:50:45.817212",
     "status": "completed"
    },
    "tags": []
   },
   "source": [
    "## Evaluating the  model\n",
    "\n",
    "* ROC curve and AUC score - plot_roc_curve()\n",
    "* Confusion matrix - confusion_matrix()\n",
    "* Classification report - classification_report()\n",
    "* Precision - precision_score()\n",
    "* Recall - recall_score()\n",
    "* F1-score - f1_score()"
   ]
  },
  {
   "cell_type": "code",
   "execution_count": 35,
   "id": "48d2ecd4",
   "metadata": {
    "execution": {
     "iopub.execute_input": "2023-05-18T20:50:45.880097Z",
     "iopub.status.busy": "2023-05-18T20:50:45.879788Z",
     "iopub.status.idle": "2023-05-18T20:50:45.887694Z",
     "shell.execute_reply": "2023-05-18T20:50:45.887049Z"
    },
    "papermill": {
     "duration": 0.031355,
     "end_time": "2023-05-18T20:50:45.889233",
     "exception": false,
     "start_time": "2023-05-18T20:50:45.857878",
     "status": "completed"
    },
    "tags": []
   },
   "outputs": [
    {
     "data": {
      "text/plain": [
       "array([0, 1, 1, 1, 1, 1, 1, 0, 1, 0, 0, 1, 1, 1, 0, 0, 1, 1, 0, 0, 1, 1,\n",
       "       1, 0, 0, 1, 1, 1, 1, 1, 0, 0, 1, 0, 1, 1, 1, 1, 0, 1, 1, 0, 1, 0,\n",
       "       1, 1, 1, 1, 1, 1, 1, 0, 1, 1, 1, 0, 1, 1, 1, 0, 1])"
      ]
     },
     "execution_count": 35,
     "metadata": {},
     "output_type": "execute_result"
    }
   ],
   "source": [
    "# First we'll get our model predictions on the test data\n",
    "\n",
    "Y_preds = gs_log_reg.predict(X_test)\n",
    "Y_preds"
   ]
  },
  {
   "cell_type": "code",
   "execution_count": 36,
   "id": "5370837f",
   "metadata": {
    "execution": {
     "iopub.execute_input": "2023-05-18T20:50:45.934039Z",
     "iopub.status.busy": "2023-05-18T20:50:45.933671Z",
     "iopub.status.idle": "2023-05-18T20:50:46.126467Z",
     "shell.execute_reply": "2023-05-18T20:50:46.125353Z"
    },
    "papermill": {
     "duration": 0.218877,
     "end_time": "2023-05-18T20:50:46.128688",
     "exception": false,
     "start_time": "2023-05-18T20:50:45.909811",
     "status": "completed"
    },
    "tags": []
   },
   "outputs": [
    {
     "data": {
      "text/plain": [
       "<sklearn.metrics._plot.roc_curve.RocCurveDisplay at 0x7b5f53e9fe80>"
      ]
     },
     "execution_count": 36,
     "metadata": {},
     "output_type": "execute_result"
    },
    {
     "data": {
      "image/png": "[encoded data removed]",
      "text/plain": [
       "<Figure size 640x480 with 1 Axes>"
      ]
     },
     "metadata": {},
     "output_type": "display_data"
    }
   ],
   "source": [
    "from sklearn.metrics import RocCurveDisplay\n",
    "\n",
    "RocCurveDisplay.from_estimator(gs_log_reg,X_test,Y_test)"
   ]
  },
  {
   "cell_type": "code",
   "execution_count": 37,
   "id": "66ccaeef",
   "metadata": {
    "execution": {
     "iopub.execute_input": "2023-05-18T20:50:46.173364Z",
     "iopub.status.busy": "2023-05-18T20:50:46.172999Z",
     "iopub.status.idle": "2023-05-18T20:50:46.181254Z",
     "shell.execute_reply": "2023-05-18T20:50:46.180526Z"
    },
    "papermill": {
     "duration": 0.03288,
     "end_time": "2023-05-18T20:50:46.183141",
     "exception": false,
     "start_time": "2023-05-18T20:50:46.150261",
     "status": "completed"
    },
    "tags": []
   },
   "outputs": [
    {
     "name": "stdout",
     "output_type": "stream",
     "text": [
      "[[14 16]\n",
      " [ 5 26]]\n"
     ]
    }
   ],
   "source": [
    "print(confusion_matrix(Y_test, Y_preds))"
   ]
  },
  {
   "cell_type": "markdown",
   "id": "fe830685",
   "metadata": {
    "papermill": {
     "duration": 0.02107,
     "end_time": "2023-05-18T20:50:46.225456",
     "exception": false,
     "start_time": "2023-05-18T20:50:46.204386",
     "status": "completed"
    },
    "tags": []
   },
   "source": [
    "### Confusion Matrix"
   ]
  },
  {
   "cell_type": "code",
   "execution_count": 38,
   "id": "834d74af",
   "metadata": {
    "execution": {
     "iopub.execute_input": "2023-05-18T20:50:46.270419Z",
     "iopub.status.busy": "2023-05-18T20:50:46.269476Z",
     "iopub.status.idle": "2023-05-18T20:50:46.492538Z",
     "shell.execute_reply": "2023-05-18T20:50:46.491527Z"
    },
    "papermill": {
     "duration": 0.248126,
     "end_time": "2023-05-18T20:50:46.494752",
     "exception": false,
     "start_time": "2023-05-18T20:50:46.246626",
     "status": "completed"
    },
    "tags": []
   },
   "outputs": [
    {
     "data": {
      "image/png": "[encoded data removed]",
      "text/plain": [
       "<Figure size 300x300 with 2 Axes>"
      ]
     },
     "metadata": {},
     "output_type": "display_data"
    }
   ],
   "source": [
    "sns.set(font_scale = 1.5)\n",
    "\n",
    "def plot_conf_mat(y_test,y_pred):\n",
    "    \"\"\"\n",
    "    Plots a confusion matrix using heatmap\n",
    "    \"\"\"\n",
    "    fig, ax = plt.subplots(figsize = (3,3))\n",
    "    ax = sns.heatmap(confusion_matrix(y_test,y_pred),\n",
    "                    annot = True)\n",
    "    plt.xlabel(\"True Label\")\n",
    "    plt.ylabel(\"Predicted Label\")\n",
    "    \n",
    "plot_conf_mat(Y_test,Y_preds)    "
   ]
  },
  {
   "cell_type": "markdown",
   "id": "95d98831",
   "metadata": {
    "papermill": {
     "duration": 0.021063,
     "end_time": "2023-05-18T20:50:46.538207",
     "exception": false,
     "start_time": "2023-05-18T20:50:46.517144",
     "status": "completed"
    },
    "tags": []
   },
   "source": [
    "### Classification Report"
   ]
  },
  {
   "cell_type": "code",
   "execution_count": 39,
   "id": "991cc52a",
   "metadata": {
    "execution": {
     "iopub.execute_input": "2023-05-18T20:50:46.582372Z",
     "iopub.status.busy": "2023-05-18T20:50:46.582069Z",
     "iopub.status.idle": "2023-05-18T20:50:46.592737Z",
     "shell.execute_reply": "2023-05-18T20:50:46.591604Z"
    },
    "papermill": {
     "duration": 0.035389,
     "end_time": "2023-05-18T20:50:46.594869",
     "exception": false,
     "start_time": "2023-05-18T20:50:46.559480",
     "status": "completed"
    },
    "tags": []
   },
   "outputs": [
    {
     "name": "stdout",
     "output_type": "stream",
     "text": [
      "              precision    recall  f1-score   support\n",
      "\n",
      "           0       0.74      0.47      0.57        30\n",
      "           1       0.62      0.84      0.71        31\n",
      "\n",
      "    accuracy                           0.66        61\n",
      "   macro avg       0.68      0.65      0.64        61\n",
      "weighted avg       0.68      0.66      0.64        61\n",
      "\n"
     ]
    }
   ],
   "source": [
    "print(classification_report(Y_test, Y_preds))"
   ]
  },
  {
   "cell_type": "markdown",
   "id": "13bfb4b3",
   "metadata": {
    "papermill": {
     "duration": 0.021476,
     "end_time": "2023-05-18T20:50:46.638413",
     "exception": false,
     "start_time": "2023-05-18T20:50:46.616937",
     "status": "completed"
    },
    "tags": []
   },
   "source": []
  },
  {
   "cell_type": "code",
   "execution_count": 40,
   "id": "5b37cfd6",
   "metadata": {
    "execution": {
     "iopub.execute_input": "2023-05-18T20:50:46.684140Z",
     "iopub.status.busy": "2023-05-18T20:50:46.683289Z",
     "iopub.status.idle": "2023-05-18T20:50:46.689089Z",
     "shell.execute_reply": "2023-05-18T20:50:46.687834Z"
    },
    "papermill": {
     "duration": 0.031003,
     "end_time": "2023-05-18T20:50:46.691345",
     "exception": false,
     "start_time": "2023-05-18T20:50:46.660342",
     "status": "completed"
    },
    "tags": []
   },
   "outputs": [
    {
     "data": {
      "text/plain": [
       "{'C': 0.0001, 'solver': 'liblinear'}"
      ]
     },
     "execution_count": 40,
     "metadata": {},
     "output_type": "execute_result"
    }
   ],
   "source": [
    "#Checking the best hyper parameters \n",
    "gs_log_reg.best_params_"
   ]
  },
  {
   "cell_type": "code",
   "execution_count": 41,
   "id": "313a0f4e",
   "metadata": {
    "execution": {
     "iopub.execute_input": "2023-05-18T20:50:46.735871Z",
     "iopub.status.busy": "2023-05-18T20:50:46.735101Z",
     "iopub.status.idle": "2023-05-18T20:50:46.740628Z",
     "shell.execute_reply": "2023-05-18T20:50:46.739814Z"
    },
    "papermill": {
     "duration": 0.030235,
     "end_time": "2023-05-18T20:50:46.742934",
     "exception": false,
     "start_time": "2023-05-18T20:50:46.712699",
     "status": "completed"
    },
    "tags": []
   },
   "outputs": [],
   "source": [
    "from sklearn.model_selection import cross_val_score\n",
    "\n",
    "# Instantiate best model with best hyperparameters (found with GridSearchCV)\n",
    "classifier = LogisticRegression(C=0.23357214690901212,\n",
    "                         solver=\"liblinear\")"
   ]
  },
  {
   "cell_type": "code",
   "execution_count": 42,
   "id": "9d33f814",
   "metadata": {
    "execution": {
     "iopub.execute_input": "2023-05-18T20:50:46.788587Z",
     "iopub.status.busy": "2023-05-18T20:50:46.788020Z",
     "iopub.status.idle": "2023-05-18T20:50:46.821520Z",
     "shell.execute_reply": "2023-05-18T20:50:46.820629Z"
    },
    "papermill": {
     "duration": 0.058668,
     "end_time": "2023-05-18T20:50:46.823660",
     "exception": false,
     "start_time": "2023-05-18T20:50:46.764992",
     "status": "completed"
    },
    "tags": []
   },
   "outputs": [
    {
     "data": {
      "text/plain": [
       "array([0.81967213, 0.8852459 , 0.86885246, 0.86666667, 0.75      ])"
      ]
     },
     "execution_count": 42,
     "metadata": {},
     "output_type": "execute_result"
    }
   ],
   "source": [
    "#Cross_validation accuracy score\n",
    "cv_acc = cross_val_score(classifier,\n",
    "                        X,Y,cv=5,scoring = \"accuracy\")\n",
    "cv_acc"
   ]
  },
  {
   "cell_type": "code",
   "execution_count": 43,
   "id": "f13f5f7b",
   "metadata": {
    "execution": {
     "iopub.execute_input": "2023-05-18T20:50:46.868809Z",
     "iopub.status.busy": "2023-05-18T20:50:46.868427Z",
     "iopub.status.idle": "2023-05-18T20:50:46.872314Z",
     "shell.execute_reply": "2023-05-18T20:50:46.871655Z"
    },
    "papermill": {
     "duration": 0.028866,
     "end_time": "2023-05-18T20:50:46.874064",
     "exception": false,
     "start_time": "2023-05-18T20:50:46.845198",
     "status": "completed"
    },
    "tags": []
   },
   "outputs": [],
   "source": [
    "cv_acc = np.mean(cv_acc)"
   ]
  },
  {
   "cell_type": "code",
   "execution_count": 44,
   "id": "9d395348",
   "metadata": {
    "execution": {
     "iopub.execute_input": "2023-05-18T20:50:46.918621Z",
     "iopub.status.busy": "2023-05-18T20:50:46.918042Z",
     "iopub.status.idle": "2023-05-18T20:50:46.922648Z",
     "shell.execute_reply": "2023-05-18T20:50:46.921956Z"
    },
    "papermill": {
     "duration": 0.02883,
     "end_time": "2023-05-18T20:50:46.924276",
     "exception": false,
     "start_time": "2023-05-18T20:50:46.895446",
     "status": "completed"
    },
    "tags": []
   },
   "outputs": [
    {
     "data": {
      "text/plain": [
       "0.8380874316939891"
      ]
     },
     "execution_count": 44,
     "metadata": {},
     "output_type": "execute_result"
    }
   ],
   "source": [
    "cv_acc"
   ]
  },
  {
   "cell_type": "code",
   "execution_count": 45,
   "id": "8d337f6c",
   "metadata": {
    "execution": {
     "iopub.execute_input": "2023-05-18T20:50:46.969736Z",
     "iopub.status.busy": "2023-05-18T20:50:46.969083Z",
     "iopub.status.idle": "2023-05-18T20:50:47.004962Z",
     "shell.execute_reply": "2023-05-18T20:50:47.003986Z"
    },
    "papermill": {
     "duration": 0.06165,
     "end_time": "2023-05-18T20:50:47.007648",
     "exception": false,
     "start_time": "2023-05-18T20:50:46.945998",
     "status": "completed"
    },
    "tags": []
   },
   "outputs": [],
   "source": [
    "#Now getting cross validation Precision Score\n",
    "cv_precision = np.mean(cross_val_score(classifier,\n",
    "                        X,Y,cv=5,scoring = \"precision\"))"
   ]
  },
  {
   "cell_type": "code",
   "execution_count": 46,
   "id": "cf30cf85",
   "metadata": {
    "execution": {
     "iopub.execute_input": "2023-05-18T20:50:47.053030Z",
     "iopub.status.busy": "2023-05-18T20:50:47.052665Z",
     "iopub.status.idle": "2023-05-18T20:50:47.058415Z",
     "shell.execute_reply": "2023-05-18T20:50:47.057293Z"
    },
    "papermill": {
     "duration": 0.030852,
     "end_time": "2023-05-18T20:50:47.060340",
     "exception": false,
     "start_time": "2023-05-18T20:50:47.029488",
     "status": "completed"
    },
    "tags": []
   },
   "outputs": [
    {
     "data": {
      "text/plain": [
       "0.8150793650793651"
      ]
     },
     "execution_count": 46,
     "metadata": {},
     "output_type": "execute_result"
    }
   ],
   "source": [
    "cv_precision"
   ]
  },
  {
   "cell_type": "code",
   "execution_count": 47,
   "id": "f3045a07",
   "metadata": {
    "execution": {
     "iopub.execute_input": "2023-05-18T20:50:47.108062Z",
     "iopub.status.busy": "2023-05-18T20:50:47.107506Z",
     "iopub.status.idle": "2023-05-18T20:50:47.144216Z",
     "shell.execute_reply": "2023-05-18T20:50:47.142987Z"
    },
    "papermill": {
     "duration": 0.063626,
     "end_time": "2023-05-18T20:50:47.146711",
     "exception": false,
     "start_time": "2023-05-18T20:50:47.083085",
     "status": "completed"
    },
    "tags": []
   },
   "outputs": [],
   "source": [
    "#Now getting cross validation Recall Score\n",
    "cv_recall = np.mean(cross_val_score(classifier,\n",
    "                        X,Y,cv=5,scoring = \"recall\"))"
   ]
  },
  {
   "cell_type": "code",
   "execution_count": 48,
   "id": "63bc061d",
   "metadata": {
    "execution": {
     "iopub.execute_input": "2023-05-18T20:50:47.195954Z",
     "iopub.status.busy": "2023-05-18T20:50:47.195513Z",
     "iopub.status.idle": "2023-05-18T20:50:47.201985Z",
     "shell.execute_reply": "2023-05-18T20:50:47.200635Z"
    },
    "papermill": {
     "duration": 0.034404,
     "end_time": "2023-05-18T20:50:47.204500",
     "exception": false,
     "start_time": "2023-05-18T20:50:47.170096",
     "status": "completed"
    },
    "tags": []
   },
   "outputs": [
    {
     "data": {
      "text/plain": [
       "0.9151515151515153"
      ]
     },
     "execution_count": 48,
     "metadata": {},
     "output_type": "execute_result"
    }
   ],
   "source": [
    "cv_recall"
   ]
  },
  {
   "cell_type": "code",
   "execution_count": 49,
   "id": "765982a4",
   "metadata": {
    "execution": {
     "iopub.execute_input": "2023-05-18T20:50:47.252010Z",
     "iopub.status.busy": "2023-05-18T20:50:47.251685Z",
     "iopub.status.idle": "2023-05-18T20:50:47.287508Z",
     "shell.execute_reply": "2023-05-18T20:50:47.286805Z"
    },
    "papermill": {
     "duration": 0.06193,
     "end_time": "2023-05-18T20:50:47.289615",
     "exception": false,
     "start_time": "2023-05-18T20:50:47.227685",
     "status": "completed"
    },
    "tags": []
   },
   "outputs": [],
   "source": [
    "#cross validation f1 score\n",
    "cv_f1 = np.mean(cross_val_score(classifier,\n",
    "                        X,Y,cv=5,scoring = \"f1\"))"
   ]
  },
  {
   "cell_type": "code",
   "execution_count": 50,
   "id": "89171815",
   "metadata": {
    "execution": {
     "iopub.execute_input": "2023-05-18T20:50:47.335886Z",
     "iopub.status.busy": "2023-05-18T20:50:47.335370Z",
     "iopub.status.idle": "2023-05-18T20:50:47.340986Z",
     "shell.execute_reply": "2023-05-18T20:50:47.340036Z"
    },
    "papermill": {
     "duration": 0.030517,
     "end_time": "2023-05-18T20:50:47.342759",
     "exception": false,
     "start_time": "2023-05-18T20:50:47.312242",
     "status": "completed"
    },
    "tags": []
   },
   "outputs": [
    {
     "data": {
      "text/plain": [
       "0.8614184446857956"
      ]
     },
     "execution_count": 50,
     "metadata": {},
     "output_type": "execute_result"
    }
   ],
   "source": [
    "cv_f1"
   ]
  },
  {
   "cell_type": "code",
   "execution_count": 51,
   "id": "c89c32f4",
   "metadata": {
    "execution": {
     "iopub.execute_input": "2023-05-18T20:50:47.388735Z",
     "iopub.status.busy": "2023-05-18T20:50:47.388355Z",
     "iopub.status.idle": "2023-05-18T20:50:47.598540Z",
     "shell.execute_reply": "2023-05-18T20:50:47.597392Z"
    },
    "papermill": {
     "duration": 0.236218,
     "end_time": "2023-05-18T20:50:47.600682",
     "exception": false,
     "start_time": "2023-05-18T20:50:47.364464",
     "status": "completed"
    },
    "tags": []
   },
   "outputs": [
    {
     "data": {
      "image/png": "[encoded data removed]",
      "text/plain": [
       "<Figure size 640x480 with 1 Axes>"
      ]
     },
     "metadata": {},
     "output_type": "display_data"
    }
   ],
   "source": [
    "cv_metrics = pd.DataFrame({\"Accuracy\": cv_acc,\n",
    "                            \"Precision\": cv_precision,\n",
    "                            \"Recall\": cv_recall,\n",
    "                            \"F1\": cv_f1},\n",
    "                          index=[0])\n",
    "cv_metrics.T.plot.bar(title=\"Cross-Validated Metrics\", legend=False);"
   ]
  },
  {
   "cell_type": "markdown",
   "id": "c6c03772",
   "metadata": {
    "papermill": {
     "duration": 0.02294,
     "end_time": "2023-05-18T20:50:47.646215",
     "exception": false,
     "start_time": "2023-05-18T20:50:47.623275",
     "status": "completed"
    },
    "tags": []
   },
   "source": [
    "## Feature Importance"
   ]
  },
  {
   "cell_type": "code",
   "execution_count": 52,
   "id": "89732b5f",
   "metadata": {
    "execution": {
     "iopub.execute_input": "2023-05-18T20:50:47.693461Z",
     "iopub.status.busy": "2023-05-18T20:50:47.692371Z",
     "iopub.status.idle": "2023-05-18T20:50:47.702248Z",
     "shell.execute_reply": "2023-05-18T20:50:47.701609Z"
    },
    "papermill": {
     "duration": 0.035191,
     "end_time": "2023-05-18T20:50:47.703848",
     "exception": false,
     "start_time": "2023-05-18T20:50:47.668657",
     "status": "completed"
    },
    "tags": []
   },
   "outputs": [
    {
     "data": {
      "text/plain": [
       "array([[ 9.96676575e-03, -9.40419825e-01,  7.54918444e-01,\n",
       "        -1.22896694e-02, -1.79298820e-04, -2.41796867e-02,\n",
       "         2.93808307e-01,  2.00229616e-02, -6.62010587e-01,\n",
       "        -6.01330015e-01,  3.61753110e-01, -6.20733843e-01,\n",
       "        -5.27736505e-01]])"
      ]
     },
     "execution_count": 52,
     "metadata": {},
     "output_type": "execute_result"
    }
   ],
   "source": [
    "#Checking importance of each Feature:\n",
    "classifier.fit(X_train,Y_train)\n",
    "classifier.coef_"
   ]
  },
  {
   "cell_type": "code",
   "execution_count": 53,
   "id": "259c74c9",
   "metadata": {
    "execution": {
     "iopub.execute_input": "2023-05-18T20:50:47.750207Z",
     "iopub.status.busy": "2023-05-18T20:50:47.749880Z",
     "iopub.status.idle": "2023-05-18T20:50:47.755879Z",
     "shell.execute_reply": "2023-05-18T20:50:47.755005Z"
    },
    "papermill": {
     "duration": 0.03203,
     "end_time": "2023-05-18T20:50:47.758172",
     "exception": false,
     "start_time": "2023-05-18T20:50:47.726142",
     "status": "completed"
    },
    "tags": []
   },
   "outputs": [
    {
     "data": {
      "text/plain": [
       "{'age': 0.009966765751958831,\n",
       " 'sex': -0.9404198251057191,\n",
       " 'cp': 0.7549184441948219,\n",
       " 'trestbps': -0.012289669426780142,\n",
       " 'chol': -0.0001792988195702451,\n",
       " 'fbs': -0.02417968666146135,\n",
       " 'restecg': 0.2938083066436352,\n",
       " 'thalach': 0.02002296157173423,\n",
       " 'exang': -0.6620105872501258,\n",
       " 'oldpeak': -0.601330015016602,\n",
       " 'slope': 0.361753110216065,\n",
       " 'ca': -0.6207338430677841,\n",
       " 'thal': -0.527736504789098}"
      ]
     },
     "execution_count": 53,
     "metadata": {},
     "output_type": "execute_result"
    }
   ],
   "source": [
    "#Match features to their names\n",
    "features_dict = dict(zip(df.columns,list(classifier.coef_[0])))\n",
    "features_dict"
   ]
  },
  {
   "cell_type": "code",
   "execution_count": 54,
   "id": "0d29bff8",
   "metadata": {
    "execution": {
     "iopub.execute_input": "2023-05-18T20:50:47.805455Z",
     "iopub.status.busy": "2023-05-18T20:50:47.805092Z",
     "iopub.status.idle": "2023-05-18T20:50:48.144624Z",
     "shell.execute_reply": "2023-05-18T20:50:48.143164Z"
    },
    "papermill": {
     "duration": 0.365329,
     "end_time": "2023-05-18T20:50:48.146973",
     "exception": false,
     "start_time": "2023-05-18T20:50:47.781644",
     "status": "completed"
    },
    "tags": []
   },
   "outputs": [
    {
     "data": {
      "text/plain": [
       "<AxesSubplot: title={'center': 'Feature Importance'}>"
      ]
     },
     "execution_count": 54,
     "metadata": {},
     "output_type": "execute_result"
    },
    {
     "data": {
      "image/png": "[encoded data removed]",
      "text/plain": [
       "<Figure size 640x480 with 1 Axes>"
      ]
     },
     "metadata": {},
     "output_type": "display_data"
    }
   ],
   "source": [
    "#Now visualizing feature importance\n",
    "features_df = pd.DataFrame(features_dict,index=[0])\n",
    "features_df.T.plot.bar(title=\"Feature Importance\",legend = False)"
   ]
  },
  {
   "cell_type": "code",
   "execution_count": null,
   "id": "7ab0354f",
   "metadata": {
    "papermill": {
     "duration": 0.022759,
     "end_time": "2023-05-18T20:50:48.192912",
     "exception": false,
     "start_time": "2023-05-18T20:50:48.170153",
     "status": "completed"
    },
    "tags": []
   },
   "outputs": [],
   "source": []
  }
 ],
 "metadata": {
  "kernelspec": {
   "display_name": "Python 3",
   "language": "python",
   "name": "python3"
  },
  "language_info": {
   "codemirror_mode": {
    "name": "ipython",
    "version": 3
   },
   "file_extension": ".py",
   "mimetype": "text/x-python",
   "name": "python",
   "nbconvert_exporter": "python",
   "pygments_lexer": "ipython3",
   "version": "3.10.10"
  },
  "papermill": {
   "default_parameters": {},
   "duration": 102.449466,
   "end_time": "2023-05-18T20:50:49.240542",
   "environment_variables": {},
   "exception": null,
   "input_path": "__notebook__.ipynb",
   "output_path": "__notebook__.ipynb",
   "parameters": {},
   "start_time": "2023-05-18T20:49:06.791076",
   "version": "2.4.0"
  }
 },
 "nbformat": 4,
 "nbformat_minor": 5
}
